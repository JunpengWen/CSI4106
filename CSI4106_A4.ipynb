{
  "cells": [
    {
      "cell_type": "markdown",
      "metadata": {
        "id": "view-in-github",
        "colab_type": "text"
      },
      "source": [
        "<a href=\"https://colab.research.google.com/github/JunpengWen/CSI4106/blob/main/CSI4106_A4.ipynb\" target=\"_parent\"><img src=\"https://colab.research.google.com/assets/colab-badge.svg\" alt=\"Open In Colab\"/></a>"
      ]
    },
    {
      "cell_type": "markdown",
      "source": [
        "# **ASSIGNMENT 4**"
      ],
      "metadata": {
        "id": "Pbcc9QS1tnBN"
      }
    },
    {
      "cell_type": "markdown",
      "source": [
        "**1. Group Description**\n",
        "\n",
        "Group Number: 53 \\\\\n",
        "Member1 Names: Junpeng Wen \\\\\n",
        "Member1 Student Numbers: 300249282 \\\\\n",
        "Member2 Names: Yongquan Long \\\\\n",
        "Member2 Student Numbers: 300249549 \\\\"
      ],
      "metadata": {
        "id": "f2Eeke4Z_EkW"
      }
    },
    {
      "cell_type": "markdown",
      "source": [
        "**2. Derived Datasets**"
      ],
      "metadata": {
        "id": "RMUnCICdyBbs"
      }
    },
    {
      "cell_type": "markdown",
      "metadata": {
        "id": "-so3pwbPKTDX"
      },
      "source": [
        "This notebook is a starting point for Assignment 4. In this assignment, you will perform a classification empirical study. This notebook will help you to create derived datasets in Section 2 of the assignment."
      ]
    },
    {
      "cell_type": "code",
      "source": [
        "#let's start by installing spaCy\n",
        "!pip install spacy"
      ],
      "metadata": {
        "id": "bhFvS3q7Lu0R",
        "colab": {
          "base_uri": "https://localhost:8080/"
        },
        "outputId": "6a0f3f69-d59d-4d97-b927-d5fd5615c4d7"
      },
      "execution_count": 1,
      "outputs": [
        {
          "output_type": "stream",
          "name": "stdout",
          "text": [
            "Requirement already satisfied: spacy in /usr/local/lib/python3.10/dist-packages (3.6.1)\n",
            "Requirement already satisfied: spacy-legacy<3.1.0,>=3.0.11 in /usr/local/lib/python3.10/dist-packages (from spacy) (3.0.12)\n",
            "Requirement already satisfied: spacy-loggers<2.0.0,>=1.0.0 in /usr/local/lib/python3.10/dist-packages (from spacy) (1.0.5)\n",
            "Requirement already satisfied: murmurhash<1.1.0,>=0.28.0 in /usr/local/lib/python3.10/dist-packages (from spacy) (1.0.10)\n",
            "Requirement already satisfied: cymem<2.1.0,>=2.0.2 in /usr/local/lib/python3.10/dist-packages (from spacy) (2.0.8)\n",
            "Requirement already satisfied: preshed<3.1.0,>=3.0.2 in /usr/local/lib/python3.10/dist-packages (from spacy) (3.0.9)\n",
            "Requirement already satisfied: thinc<8.2.0,>=8.1.8 in /usr/local/lib/python3.10/dist-packages (from spacy) (8.1.12)\n",
            "Requirement already satisfied: wasabi<1.2.0,>=0.9.1 in /usr/local/lib/python3.10/dist-packages (from spacy) (1.1.2)\n",
            "Requirement already satisfied: srsly<3.0.0,>=2.4.3 in /usr/local/lib/python3.10/dist-packages (from spacy) (2.4.8)\n",
            "Requirement already satisfied: catalogue<2.1.0,>=2.0.6 in /usr/local/lib/python3.10/dist-packages (from spacy) (2.0.10)\n",
            "Requirement already satisfied: typer<0.10.0,>=0.3.0 in /usr/local/lib/python3.10/dist-packages (from spacy) (0.9.0)\n",
            "Requirement already satisfied: pathy>=0.10.0 in /usr/local/lib/python3.10/dist-packages (from spacy) (0.10.3)\n",
            "Requirement already satisfied: smart-open<7.0.0,>=5.2.1 in /usr/local/lib/python3.10/dist-packages (from spacy) (6.4.0)\n",
            "Requirement already satisfied: tqdm<5.0.0,>=4.38.0 in /usr/local/lib/python3.10/dist-packages (from spacy) (4.66.1)\n",
            "Requirement already satisfied: numpy>=1.15.0 in /usr/local/lib/python3.10/dist-packages (from spacy) (1.23.5)\n",
            "Requirement already satisfied: requests<3.0.0,>=2.13.0 in /usr/local/lib/python3.10/dist-packages (from spacy) (2.31.0)\n",
            "Requirement already satisfied: pydantic!=1.8,!=1.8.1,<3.0.0,>=1.7.4 in /usr/local/lib/python3.10/dist-packages (from spacy) (1.10.13)\n",
            "Requirement already satisfied: jinja2 in /usr/local/lib/python3.10/dist-packages (from spacy) (3.1.2)\n",
            "Requirement already satisfied: setuptools in /usr/local/lib/python3.10/dist-packages (from spacy) (67.7.2)\n",
            "Requirement already satisfied: packaging>=20.0 in /usr/local/lib/python3.10/dist-packages (from spacy) (23.2)\n",
            "Requirement already satisfied: langcodes<4.0.0,>=3.2.0 in /usr/local/lib/python3.10/dist-packages (from spacy) (3.3.0)\n",
            "Requirement already satisfied: typing-extensions>=4.2.0 in /usr/local/lib/python3.10/dist-packages (from pydantic!=1.8,!=1.8.1,<3.0.0,>=1.7.4->spacy) (4.5.0)\n",
            "Requirement already satisfied: charset-normalizer<4,>=2 in /usr/local/lib/python3.10/dist-packages (from requests<3.0.0,>=2.13.0->spacy) (3.3.2)\n",
            "Requirement already satisfied: idna<4,>=2.5 in /usr/local/lib/python3.10/dist-packages (from requests<3.0.0,>=2.13.0->spacy) (3.6)\n",
            "Requirement already satisfied: urllib3<3,>=1.21.1 in /usr/local/lib/python3.10/dist-packages (from requests<3.0.0,>=2.13.0->spacy) (2.0.7)\n",
            "Requirement already satisfied: certifi>=2017.4.17 in /usr/local/lib/python3.10/dist-packages (from requests<3.0.0,>=2.13.0->spacy) (2023.11.17)\n",
            "Requirement already satisfied: blis<0.8.0,>=0.7.8 in /usr/local/lib/python3.10/dist-packages (from thinc<8.2.0,>=8.1.8->spacy) (0.7.11)\n",
            "Requirement already satisfied: confection<1.0.0,>=0.0.1 in /usr/local/lib/python3.10/dist-packages (from thinc<8.2.0,>=8.1.8->spacy) (0.1.4)\n",
            "Requirement already satisfied: click<9.0.0,>=7.1.1 in /usr/local/lib/python3.10/dist-packages (from typer<0.10.0,>=0.3.0->spacy) (8.1.7)\n",
            "Requirement already satisfied: MarkupSafe>=2.0 in /usr/local/lib/python3.10/dist-packages (from jinja2->spacy) (2.1.3)\n"
          ]
        }
      ]
    },
    {
      "cell_type": "code",
      "execution_count": 2,
      "metadata": {
        "id": "aCWgl6PLKTDY"
      },
      "outputs": [],
      "source": [
        "import spacy\n",
        "import pandas as pd\n",
        "import numpy as np"
      ]
    },
    {
      "cell_type": "markdown",
      "source": [
        "You have been given a list of datasets in the assignment description. Choose one of the datasets and provide the link below and read the dataset using pandas. You should provide a link to your own Github repository even if you are using a reduced version of a dataset from your TA's repository."
      ],
      "metadata": {
        "id": "EX9WQWGSwU2D"
      }
    },
    {
      "cell_type": "markdown",
      "source": [
        "Our chosen dataset, the reduced version of the Airline Passenger Reviews, offers a fascinating opportunity for exploring text classification in the realm of airline customer feedback. This dataset, originally featuring a substantial 64,017 samples, has been thoughtfully condensed to a more manageable 10,761 samples, ensuring a more focused and efficient analysis for our project.\n",
        "\n",
        "Within this dataset, each airline passenger review is categorized into one of three distinct classes: promoters, detractors, and passives. This classification provides a clear framework for understanding the varying levels of customer satisfaction and sentiment. Promoters likely represent positive reviews, reflecting satisfied customers who would recommend the airline. Detractors, on the other hand, are expected to offer critical feedback, indicating dissatisfaction. Passives likely fall between these two extremes, offering neither strongly positive nor negative views.\n",
        "\n",
        "The dataset's design aligns well with the objectives of our assignment in the Introduction to Artificial Intelligence course, where we are tasked with applying supervised machine learning techniques. By analyzing these reviews, we aim to gain insights into customer sentiment, identifying key factors that drive satisfaction and dissatisfaction among airline passengers. This practical application not only enhances our understanding of text classification but also offers potential real-world implications for improving customer experience in the airline industry."
      ],
      "metadata": {
        "id": "CSyg0jjC1jJa"
      }
    },
    {
      "cell_type": "code",
      "execution_count": 3,
      "metadata": {
        "id": "1Xx4qMCLKTDb"
      },
      "outputs": [],
      "source": [
        "#Load the dataset you chose.\n",
        "# Make sure the Notebook can load your dataset, just like previous assignments.\n",
        "\n",
        "url = 'https://raw.githubusercontent.com/JunpengWen/CSI4106/main/reduced_file_AirPassengerReviews.csv'\n",
        "\n",
        "\n",
        "\n"
      ]
    },
    {
      "cell_type": "code",
      "source": [
        "print(url)\n",
        "data = pd.read_csv(url)"
      ],
      "metadata": {
        "id": "wg24OUV81Xgm",
        "colab": {
          "base_uri": "https://localhost:8080/"
        },
        "outputId": "3b7388de-6b1b-437c-8e01-a05877935be7"
      },
      "execution_count": 4,
      "outputs": [
        {
          "output_type": "stream",
          "name": "stdout",
          "text": [
            "https://raw.githubusercontent.com/JunpengWen/CSI4106/main/reduced_file_AirPassengerReviews.csv\n"
          ]
        }
      ]
    },
    {
      "cell_type": "code",
      "execution_count": 5,
      "metadata": {
        "id": "AQ5nSY1HKTDd",
        "colab": {
          "base_uri": "https://localhost:8080/",
          "height": 206
        },
        "outputId": "61487717-b1f5-43dc-e07c-01b4d6613e88"
      },
      "outputs": [
        {
          "output_type": "execute_result",
          "data": {
            "text/plain": [
              "                                     customer_review  NPS Score\n",
              "0   London to Izmir via Istanbul. First time I'd ...    Passive\n",
              "1   Istanbul to Bucharest. We make our check in i...  Detractor\n",
              "2   Rome to Prishtina via Istanbul. I flew with t...  Detractor\n",
              "3   Flew on Turkish Airlines IAD-IST-KHI and retu...   Promoter\n",
              "4   Mumbai to Dublin via Istanbul. Never book Tur...  Detractor"
            ],
            "text/html": [
              "\n",
              "  <div id=\"df-3aa77ea4-df0e-4aa8-a77b-8e56c8ea2e30\" class=\"colab-df-container\">\n",
              "    <div>\n",
              "<style scoped>\n",
              "    .dataframe tbody tr th:only-of-type {\n",
              "        vertical-align: middle;\n",
              "    }\n",
              "\n",
              "    .dataframe tbody tr th {\n",
              "        vertical-align: top;\n",
              "    }\n",
              "\n",
              "    .dataframe thead th {\n",
              "        text-align: right;\n",
              "    }\n",
              "</style>\n",
              "<table border=\"1\" class=\"dataframe\">\n",
              "  <thead>\n",
              "    <tr style=\"text-align: right;\">\n",
              "      <th></th>\n",
              "      <th>customer_review</th>\n",
              "      <th>NPS Score</th>\n",
              "    </tr>\n",
              "  </thead>\n",
              "  <tbody>\n",
              "    <tr>\n",
              "      <th>0</th>\n",
              "      <td>London to Izmir via Istanbul. First time I'd ...</td>\n",
              "      <td>Passive</td>\n",
              "    </tr>\n",
              "    <tr>\n",
              "      <th>1</th>\n",
              "      <td>Istanbul to Bucharest. We make our check in i...</td>\n",
              "      <td>Detractor</td>\n",
              "    </tr>\n",
              "    <tr>\n",
              "      <th>2</th>\n",
              "      <td>Rome to Prishtina via Istanbul. I flew with t...</td>\n",
              "      <td>Detractor</td>\n",
              "    </tr>\n",
              "    <tr>\n",
              "      <th>3</th>\n",
              "      <td>Flew on Turkish Airlines IAD-IST-KHI and retu...</td>\n",
              "      <td>Promoter</td>\n",
              "    </tr>\n",
              "    <tr>\n",
              "      <th>4</th>\n",
              "      <td>Mumbai to Dublin via Istanbul. Never book Tur...</td>\n",
              "      <td>Detractor</td>\n",
              "    </tr>\n",
              "  </tbody>\n",
              "</table>\n",
              "</div>\n",
              "    <div class=\"colab-df-buttons\">\n",
              "\n",
              "  <div class=\"colab-df-container\">\n",
              "    <button class=\"colab-df-convert\" onclick=\"convertToInteractive('df-3aa77ea4-df0e-4aa8-a77b-8e56c8ea2e30')\"\n",
              "            title=\"Convert this dataframe to an interactive table.\"\n",
              "            style=\"display:none;\">\n",
              "\n",
              "  <svg xmlns=\"http://www.w3.org/2000/svg\" height=\"24px\" viewBox=\"0 -960 960 960\">\n",
              "    <path d=\"M120-120v-720h720v720H120Zm60-500h600v-160H180v160Zm220 220h160v-160H400v160Zm0 220h160v-160H400v160ZM180-400h160v-160H180v160Zm440 0h160v-160H620v160ZM180-180h160v-160H180v160Zm440 0h160v-160H620v160Z\"/>\n",
              "  </svg>\n",
              "    </button>\n",
              "\n",
              "  <style>\n",
              "    .colab-df-container {\n",
              "      display:flex;\n",
              "      gap: 12px;\n",
              "    }\n",
              "\n",
              "    .colab-df-convert {\n",
              "      background-color: #E8F0FE;\n",
              "      border: none;\n",
              "      border-radius: 50%;\n",
              "      cursor: pointer;\n",
              "      display: none;\n",
              "      fill: #1967D2;\n",
              "      height: 32px;\n",
              "      padding: 0 0 0 0;\n",
              "      width: 32px;\n",
              "    }\n",
              "\n",
              "    .colab-df-convert:hover {\n",
              "      background-color: #E2EBFA;\n",
              "      box-shadow: 0px 1px 2px rgba(60, 64, 67, 0.3), 0px 1px 3px 1px rgba(60, 64, 67, 0.15);\n",
              "      fill: #174EA6;\n",
              "    }\n",
              "\n",
              "    .colab-df-buttons div {\n",
              "      margin-bottom: 4px;\n",
              "    }\n",
              "\n",
              "    [theme=dark] .colab-df-convert {\n",
              "      background-color: #3B4455;\n",
              "      fill: #D2E3FC;\n",
              "    }\n",
              "\n",
              "    [theme=dark] .colab-df-convert:hover {\n",
              "      background-color: #434B5C;\n",
              "      box-shadow: 0px 1px 3px 1px rgba(0, 0, 0, 0.15);\n",
              "      filter: drop-shadow(0px 1px 2px rgba(0, 0, 0, 0.3));\n",
              "      fill: #FFFFFF;\n",
              "    }\n",
              "  </style>\n",
              "\n",
              "    <script>\n",
              "      const buttonEl =\n",
              "        document.querySelector('#df-3aa77ea4-df0e-4aa8-a77b-8e56c8ea2e30 button.colab-df-convert');\n",
              "      buttonEl.style.display =\n",
              "        google.colab.kernel.accessAllowed ? 'block' : 'none';\n",
              "\n",
              "      async function convertToInteractive(key) {\n",
              "        const element = document.querySelector('#df-3aa77ea4-df0e-4aa8-a77b-8e56c8ea2e30');\n",
              "        const dataTable =\n",
              "          await google.colab.kernel.invokeFunction('convertToInteractive',\n",
              "                                                    [key], {});\n",
              "        if (!dataTable) return;\n",
              "\n",
              "        const docLinkHtml = 'Like what you see? Visit the ' +\n",
              "          '<a target=\"_blank\" href=https://colab.research.google.com/notebooks/data_table.ipynb>data table notebook</a>'\n",
              "          + ' to learn more about interactive tables.';\n",
              "        element.innerHTML = '';\n",
              "        dataTable['output_type'] = 'display_data';\n",
              "        await google.colab.output.renderOutput(dataTable, element);\n",
              "        const docLink = document.createElement('div');\n",
              "        docLink.innerHTML = docLinkHtml;\n",
              "        element.appendChild(docLink);\n",
              "      }\n",
              "    </script>\n",
              "  </div>\n",
              "\n",
              "\n",
              "<div id=\"df-84aeb6db-6765-49e1-bec3-139c75fd75cc\">\n",
              "  <button class=\"colab-df-quickchart\" onclick=\"quickchart('df-84aeb6db-6765-49e1-bec3-139c75fd75cc')\"\n",
              "            title=\"Suggest charts\"\n",
              "            style=\"display:none;\">\n",
              "\n",
              "<svg xmlns=\"http://www.w3.org/2000/svg\" height=\"24px\"viewBox=\"0 0 24 24\"\n",
              "     width=\"24px\">\n",
              "    <g>\n",
              "        <path d=\"M19 3H5c-1.1 0-2 .9-2 2v14c0 1.1.9 2 2 2h14c1.1 0 2-.9 2-2V5c0-1.1-.9-2-2-2zM9 17H7v-7h2v7zm4 0h-2V7h2v10zm4 0h-2v-4h2v4z\"/>\n",
              "    </g>\n",
              "</svg>\n",
              "  </button>\n",
              "\n",
              "<style>\n",
              "  .colab-df-quickchart {\n",
              "      --bg-color: #E8F0FE;\n",
              "      --fill-color: #1967D2;\n",
              "      --hover-bg-color: #E2EBFA;\n",
              "      --hover-fill-color: #174EA6;\n",
              "      --disabled-fill-color: #AAA;\n",
              "      --disabled-bg-color: #DDD;\n",
              "  }\n",
              "\n",
              "  [theme=dark] .colab-df-quickchart {\n",
              "      --bg-color: #3B4455;\n",
              "      --fill-color: #D2E3FC;\n",
              "      --hover-bg-color: #434B5C;\n",
              "      --hover-fill-color: #FFFFFF;\n",
              "      --disabled-bg-color: #3B4455;\n",
              "      --disabled-fill-color: #666;\n",
              "  }\n",
              "\n",
              "  .colab-df-quickchart {\n",
              "    background-color: var(--bg-color);\n",
              "    border: none;\n",
              "    border-radius: 50%;\n",
              "    cursor: pointer;\n",
              "    display: none;\n",
              "    fill: var(--fill-color);\n",
              "    height: 32px;\n",
              "    padding: 0;\n",
              "    width: 32px;\n",
              "  }\n",
              "\n",
              "  .colab-df-quickchart:hover {\n",
              "    background-color: var(--hover-bg-color);\n",
              "    box-shadow: 0 1px 2px rgba(60, 64, 67, 0.3), 0 1px 3px 1px rgba(60, 64, 67, 0.15);\n",
              "    fill: var(--button-hover-fill-color);\n",
              "  }\n",
              "\n",
              "  .colab-df-quickchart-complete:disabled,\n",
              "  .colab-df-quickchart-complete:disabled:hover {\n",
              "    background-color: var(--disabled-bg-color);\n",
              "    fill: var(--disabled-fill-color);\n",
              "    box-shadow: none;\n",
              "  }\n",
              "\n",
              "  .colab-df-spinner {\n",
              "    border: 2px solid var(--fill-color);\n",
              "    border-color: transparent;\n",
              "    border-bottom-color: var(--fill-color);\n",
              "    animation:\n",
              "      spin 1s steps(1) infinite;\n",
              "  }\n",
              "\n",
              "  @keyframes spin {\n",
              "    0% {\n",
              "      border-color: transparent;\n",
              "      border-bottom-color: var(--fill-color);\n",
              "      border-left-color: var(--fill-color);\n",
              "    }\n",
              "    20% {\n",
              "      border-color: transparent;\n",
              "      border-left-color: var(--fill-color);\n",
              "      border-top-color: var(--fill-color);\n",
              "    }\n",
              "    30% {\n",
              "      border-color: transparent;\n",
              "      border-left-color: var(--fill-color);\n",
              "      border-top-color: var(--fill-color);\n",
              "      border-right-color: var(--fill-color);\n",
              "    }\n",
              "    40% {\n",
              "      border-color: transparent;\n",
              "      border-right-color: var(--fill-color);\n",
              "      border-top-color: var(--fill-color);\n",
              "    }\n",
              "    60% {\n",
              "      border-color: transparent;\n",
              "      border-right-color: var(--fill-color);\n",
              "    }\n",
              "    80% {\n",
              "      border-color: transparent;\n",
              "      border-right-color: var(--fill-color);\n",
              "      border-bottom-color: var(--fill-color);\n",
              "    }\n",
              "    90% {\n",
              "      border-color: transparent;\n",
              "      border-bottom-color: var(--fill-color);\n",
              "    }\n",
              "  }\n",
              "</style>\n",
              "\n",
              "  <script>\n",
              "    async function quickchart(key) {\n",
              "      const quickchartButtonEl =\n",
              "        document.querySelector('#' + key + ' button');\n",
              "      quickchartButtonEl.disabled = true;  // To prevent multiple clicks.\n",
              "      quickchartButtonEl.classList.add('colab-df-spinner');\n",
              "      try {\n",
              "        const charts = await google.colab.kernel.invokeFunction(\n",
              "            'suggestCharts', [key], {});\n",
              "      } catch (error) {\n",
              "        console.error('Error during call to suggestCharts:', error);\n",
              "      }\n",
              "      quickchartButtonEl.classList.remove('colab-df-spinner');\n",
              "      quickchartButtonEl.classList.add('colab-df-quickchart-complete');\n",
              "    }\n",
              "    (() => {\n",
              "      let quickchartButtonEl =\n",
              "        document.querySelector('#df-84aeb6db-6765-49e1-bec3-139c75fd75cc button');\n",
              "      quickchartButtonEl.style.display =\n",
              "        google.colab.kernel.accessAllowed ? 'block' : 'none';\n",
              "    })();\n",
              "  </script>\n",
              "</div>\n",
              "    </div>\n",
              "  </div>\n"
            ]
          },
          "metadata": {},
          "execution_count": 5
        }
      ],
      "source": [
        "data.head()"
      ]
    },
    {
      "cell_type": "markdown",
      "metadata": {
        "id": "Y3pycllPKTDd"
      },
      "source": [
        "This is where you create the NLP pipeline. load() will download the correct model (English)."
      ]
    },
    {
      "cell_type": "code",
      "execution_count": 6,
      "metadata": {
        "id": "wQtSi8XuKTDe"
      },
      "outputs": [],
      "source": [
        "nlp = spacy.load(\"en_core_web_sm\")"
      ]
    },
    {
      "cell_type": "markdown",
      "metadata": {
        "id": "ccqFArDyKTDf"
      },
      "source": [
        "Applying the pipeline to every sentences creates a Document where every word is a Token object.\n",
        "\n",
        "Doc: https://spacy.io/api/doc\n",
        "\n",
        "Token: https://spacy.io/api/token"
      ]
    },
    {
      "cell_type": "code",
      "execution_count": 7,
      "metadata": {
        "id": "WcaeMUL2KTDg"
      },
      "outputs": [],
      "source": [
        "#Apply nlp pipeline to the column that has your sentences.\n",
        "data['tokenized'] = data['customer_review'].apply(nlp)"
      ]
    },
    {
      "cell_type": "code",
      "execution_count": 8,
      "metadata": {
        "id": "7i6ai1I8KTDg",
        "colab": {
          "base_uri": "https://localhost:8080/",
          "height": 206
        },
        "outputId": "957fe1cc-beca-436c-b5cd-726c0473b07b"
      },
      "outputs": [
        {
          "output_type": "execute_result",
          "data": {
            "text/plain": [
              "                                     customer_review  NPS Score  \\\n",
              "0   London to Izmir via Istanbul. First time I'd ...    Passive   \n",
              "1   Istanbul to Bucharest. We make our check in i...  Detractor   \n",
              "2   Rome to Prishtina via Istanbul. I flew with t...  Detractor   \n",
              "3   Flew on Turkish Airlines IAD-IST-KHI and retu...   Promoter   \n",
              "4   Mumbai to Dublin via Istanbul. Never book Tur...  Detractor   \n",
              "\n",
              "                                           tokenized  \n",
              "0  ( , London, to, Izmir, via, Istanbul, ., First...  \n",
              "1  ( , Istanbul, to, Bucharest, ., We, make, our,...  \n",
              "2  ( , Rome, to, Prishtina, via, Istanbul, ., I, ...  \n",
              "3  ( , Flew, on, Turkish, Airlines, IAD, -, IST, ...  \n",
              "4  ( , Mumbai, to, Dublin, via, Istanbul, ., Neve...  "
            ],
            "text/html": [
              "\n",
              "  <div id=\"df-6865f7e9-36f1-440a-b0fe-9069045ad447\" class=\"colab-df-container\">\n",
              "    <div>\n",
              "<style scoped>\n",
              "    .dataframe tbody tr th:only-of-type {\n",
              "        vertical-align: middle;\n",
              "    }\n",
              "\n",
              "    .dataframe tbody tr th {\n",
              "        vertical-align: top;\n",
              "    }\n",
              "\n",
              "    .dataframe thead th {\n",
              "        text-align: right;\n",
              "    }\n",
              "</style>\n",
              "<table border=\"1\" class=\"dataframe\">\n",
              "  <thead>\n",
              "    <tr style=\"text-align: right;\">\n",
              "      <th></th>\n",
              "      <th>customer_review</th>\n",
              "      <th>NPS Score</th>\n",
              "      <th>tokenized</th>\n",
              "    </tr>\n",
              "  </thead>\n",
              "  <tbody>\n",
              "    <tr>\n",
              "      <th>0</th>\n",
              "      <td>London to Izmir via Istanbul. First time I'd ...</td>\n",
              "      <td>Passive</td>\n",
              "      <td>( , London, to, Izmir, via, Istanbul, ., First...</td>\n",
              "    </tr>\n",
              "    <tr>\n",
              "      <th>1</th>\n",
              "      <td>Istanbul to Bucharest. We make our check in i...</td>\n",
              "      <td>Detractor</td>\n",
              "      <td>( , Istanbul, to, Bucharest, ., We, make, our,...</td>\n",
              "    </tr>\n",
              "    <tr>\n",
              "      <th>2</th>\n",
              "      <td>Rome to Prishtina via Istanbul. I flew with t...</td>\n",
              "      <td>Detractor</td>\n",
              "      <td>( , Rome, to, Prishtina, via, Istanbul, ., I, ...</td>\n",
              "    </tr>\n",
              "    <tr>\n",
              "      <th>3</th>\n",
              "      <td>Flew on Turkish Airlines IAD-IST-KHI and retu...</td>\n",
              "      <td>Promoter</td>\n",
              "      <td>( , Flew, on, Turkish, Airlines, IAD, -, IST, ...</td>\n",
              "    </tr>\n",
              "    <tr>\n",
              "      <th>4</th>\n",
              "      <td>Mumbai to Dublin via Istanbul. Never book Tur...</td>\n",
              "      <td>Detractor</td>\n",
              "      <td>( , Mumbai, to, Dublin, via, Istanbul, ., Neve...</td>\n",
              "    </tr>\n",
              "  </tbody>\n",
              "</table>\n",
              "</div>\n",
              "    <div class=\"colab-df-buttons\">\n",
              "\n",
              "  <div class=\"colab-df-container\">\n",
              "    <button class=\"colab-df-convert\" onclick=\"convertToInteractive('df-6865f7e9-36f1-440a-b0fe-9069045ad447')\"\n",
              "            title=\"Convert this dataframe to an interactive table.\"\n",
              "            style=\"display:none;\">\n",
              "\n",
              "  <svg xmlns=\"http://www.w3.org/2000/svg\" height=\"24px\" viewBox=\"0 -960 960 960\">\n",
              "    <path d=\"M120-120v-720h720v720H120Zm60-500h600v-160H180v160Zm220 220h160v-160H400v160Zm0 220h160v-160H400v160ZM180-400h160v-160H180v160Zm440 0h160v-160H620v160ZM180-180h160v-160H180v160Zm440 0h160v-160H620v160Z\"/>\n",
              "  </svg>\n",
              "    </button>\n",
              "\n",
              "  <style>\n",
              "    .colab-df-container {\n",
              "      display:flex;\n",
              "      gap: 12px;\n",
              "    }\n",
              "\n",
              "    .colab-df-convert {\n",
              "      background-color: #E8F0FE;\n",
              "      border: none;\n",
              "      border-radius: 50%;\n",
              "      cursor: pointer;\n",
              "      display: none;\n",
              "      fill: #1967D2;\n",
              "      height: 32px;\n",
              "      padding: 0 0 0 0;\n",
              "      width: 32px;\n",
              "    }\n",
              "\n",
              "    .colab-df-convert:hover {\n",
              "      background-color: #E2EBFA;\n",
              "      box-shadow: 0px 1px 2px rgba(60, 64, 67, 0.3), 0px 1px 3px 1px rgba(60, 64, 67, 0.15);\n",
              "      fill: #174EA6;\n",
              "    }\n",
              "\n",
              "    .colab-df-buttons div {\n",
              "      margin-bottom: 4px;\n",
              "    }\n",
              "\n",
              "    [theme=dark] .colab-df-convert {\n",
              "      background-color: #3B4455;\n",
              "      fill: #D2E3FC;\n",
              "    }\n",
              "\n",
              "    [theme=dark] .colab-df-convert:hover {\n",
              "      background-color: #434B5C;\n",
              "      box-shadow: 0px 1px 3px 1px rgba(0, 0, 0, 0.15);\n",
              "      filter: drop-shadow(0px 1px 2px rgba(0, 0, 0, 0.3));\n",
              "      fill: #FFFFFF;\n",
              "    }\n",
              "  </style>\n",
              "\n",
              "    <script>\n",
              "      const buttonEl =\n",
              "        document.querySelector('#df-6865f7e9-36f1-440a-b0fe-9069045ad447 button.colab-df-convert');\n",
              "      buttonEl.style.display =\n",
              "        google.colab.kernel.accessAllowed ? 'block' : 'none';\n",
              "\n",
              "      async function convertToInteractive(key) {\n",
              "        const element = document.querySelector('#df-6865f7e9-36f1-440a-b0fe-9069045ad447');\n",
              "        const dataTable =\n",
              "          await google.colab.kernel.invokeFunction('convertToInteractive',\n",
              "                                                    [key], {});\n",
              "        if (!dataTable) return;\n",
              "\n",
              "        const docLinkHtml = 'Like what you see? Visit the ' +\n",
              "          '<a target=\"_blank\" href=https://colab.research.google.com/notebooks/data_table.ipynb>data table notebook</a>'\n",
              "          + ' to learn more about interactive tables.';\n",
              "        element.innerHTML = '';\n",
              "        dataTable['output_type'] = 'display_data';\n",
              "        await google.colab.output.renderOutput(dataTable, element);\n",
              "        const docLink = document.createElement('div');\n",
              "        docLink.innerHTML = docLinkHtml;\n",
              "        element.appendChild(docLink);\n",
              "      }\n",
              "    </script>\n",
              "  </div>\n",
              "\n",
              "\n",
              "<div id=\"df-298e81cd-327b-45d1-8776-6a9572c56807\">\n",
              "  <button class=\"colab-df-quickchart\" onclick=\"quickchart('df-298e81cd-327b-45d1-8776-6a9572c56807')\"\n",
              "            title=\"Suggest charts\"\n",
              "            style=\"display:none;\">\n",
              "\n",
              "<svg xmlns=\"http://www.w3.org/2000/svg\" height=\"24px\"viewBox=\"0 0 24 24\"\n",
              "     width=\"24px\">\n",
              "    <g>\n",
              "        <path d=\"M19 3H5c-1.1 0-2 .9-2 2v14c0 1.1.9 2 2 2h14c1.1 0 2-.9 2-2V5c0-1.1-.9-2-2-2zM9 17H7v-7h2v7zm4 0h-2V7h2v10zm4 0h-2v-4h2v4z\"/>\n",
              "    </g>\n",
              "</svg>\n",
              "  </button>\n",
              "\n",
              "<style>\n",
              "  .colab-df-quickchart {\n",
              "      --bg-color: #E8F0FE;\n",
              "      --fill-color: #1967D2;\n",
              "      --hover-bg-color: #E2EBFA;\n",
              "      --hover-fill-color: #174EA6;\n",
              "      --disabled-fill-color: #AAA;\n",
              "      --disabled-bg-color: #DDD;\n",
              "  }\n",
              "\n",
              "  [theme=dark] .colab-df-quickchart {\n",
              "      --bg-color: #3B4455;\n",
              "      --fill-color: #D2E3FC;\n",
              "      --hover-bg-color: #434B5C;\n",
              "      --hover-fill-color: #FFFFFF;\n",
              "      --disabled-bg-color: #3B4455;\n",
              "      --disabled-fill-color: #666;\n",
              "  }\n",
              "\n",
              "  .colab-df-quickchart {\n",
              "    background-color: var(--bg-color);\n",
              "    border: none;\n",
              "    border-radius: 50%;\n",
              "    cursor: pointer;\n",
              "    display: none;\n",
              "    fill: var(--fill-color);\n",
              "    height: 32px;\n",
              "    padding: 0;\n",
              "    width: 32px;\n",
              "  }\n",
              "\n",
              "  .colab-df-quickchart:hover {\n",
              "    background-color: var(--hover-bg-color);\n",
              "    box-shadow: 0 1px 2px rgba(60, 64, 67, 0.3), 0 1px 3px 1px rgba(60, 64, 67, 0.15);\n",
              "    fill: var(--button-hover-fill-color);\n",
              "  }\n",
              "\n",
              "  .colab-df-quickchart-complete:disabled,\n",
              "  .colab-df-quickchart-complete:disabled:hover {\n",
              "    background-color: var(--disabled-bg-color);\n",
              "    fill: var(--disabled-fill-color);\n",
              "    box-shadow: none;\n",
              "  }\n",
              "\n",
              "  .colab-df-spinner {\n",
              "    border: 2px solid var(--fill-color);\n",
              "    border-color: transparent;\n",
              "    border-bottom-color: var(--fill-color);\n",
              "    animation:\n",
              "      spin 1s steps(1) infinite;\n",
              "  }\n",
              "\n",
              "  @keyframes spin {\n",
              "    0% {\n",
              "      border-color: transparent;\n",
              "      border-bottom-color: var(--fill-color);\n",
              "      border-left-color: var(--fill-color);\n",
              "    }\n",
              "    20% {\n",
              "      border-color: transparent;\n",
              "      border-left-color: var(--fill-color);\n",
              "      border-top-color: var(--fill-color);\n",
              "    }\n",
              "    30% {\n",
              "      border-color: transparent;\n",
              "      border-left-color: var(--fill-color);\n",
              "      border-top-color: var(--fill-color);\n",
              "      border-right-color: var(--fill-color);\n",
              "    }\n",
              "    40% {\n",
              "      border-color: transparent;\n",
              "      border-right-color: var(--fill-color);\n",
              "      border-top-color: var(--fill-color);\n",
              "    }\n",
              "    60% {\n",
              "      border-color: transparent;\n",
              "      border-right-color: var(--fill-color);\n",
              "    }\n",
              "    80% {\n",
              "      border-color: transparent;\n",
              "      border-right-color: var(--fill-color);\n",
              "      border-bottom-color: var(--fill-color);\n",
              "    }\n",
              "    90% {\n",
              "      border-color: transparent;\n",
              "      border-bottom-color: var(--fill-color);\n",
              "    }\n",
              "  }\n",
              "</style>\n",
              "\n",
              "  <script>\n",
              "    async function quickchart(key) {\n",
              "      const quickchartButtonEl =\n",
              "        document.querySelector('#' + key + ' button');\n",
              "      quickchartButtonEl.disabled = true;  // To prevent multiple clicks.\n",
              "      quickchartButtonEl.classList.add('colab-df-spinner');\n",
              "      try {\n",
              "        const charts = await google.colab.kernel.invokeFunction(\n",
              "            'suggestCharts', [key], {});\n",
              "      } catch (error) {\n",
              "        console.error('Error during call to suggestCharts:', error);\n",
              "      }\n",
              "      quickchartButtonEl.classList.remove('colab-df-spinner');\n",
              "      quickchartButtonEl.classList.add('colab-df-quickchart-complete');\n",
              "    }\n",
              "    (() => {\n",
              "      let quickchartButtonEl =\n",
              "        document.querySelector('#df-298e81cd-327b-45d1-8776-6a9572c56807 button');\n",
              "      quickchartButtonEl.style.display =\n",
              "        google.colab.kernel.accessAllowed ? 'block' : 'none';\n",
              "    })();\n",
              "  </script>\n",
              "</div>\n",
              "    </div>\n",
              "  </div>\n"
            ]
          },
          "metadata": {},
          "execution_count": 8
        }
      ],
      "source": [
        "data.head()"
      ]
    },
    {
      "cell_type": "markdown",
      "metadata": {
        "id": "jHRfZ2uEKTDh"
      },
      "source": [
        "A Token object has many attributes such as part-of-speech (pos_), lemma (lemma_), etc. Take a look at the documentation to see all attributes.\n",
        "\n",
        "The following function is an example on how you can fetch a specific pos tagging from a sentence. We return the lemmatization because we only want the infinitive word."
      ]
    },
    {
      "cell_type": "markdown",
      "source": [
        "In the process of creating additional datasets from the Airline Passenger Reviews, we carefully considered various linguistic elements to enrich our analysis. Here's an explanation of our approach for the two derived datasets:\n",
        "\n",
        "**Derived-Dataset-1: Focus on Adjectives**\n",
        "\n",
        "In Derived-Dataset-1, we decided to focus on adjectives because adjectives play a crucial role in expressing customers' opinions and evaluations of their airline travel experiences. These descriptive words often carry significant sentiments, whether positive or negative, and provide a deeper understanding of customer feelings.\n",
        "\n",
        "By analyzing adjectives, we can identify common themes in customer feedback, such as comfort, cleanliness, service quality, and overall satisfaction. This information is invaluable for airlines aiming to understand their service's strengths and weaknesses and make targeted improvements to enhance customer satisfaction.\n",
        "\n",
        "**Derived-Dataset-2: Focus on Location, Money, and Adjectives**\n",
        "\n",
        "In Derived-Dataset-2, our choice to include named entities such as location and money, alongside adjectives, was driven by a multi-faceted approach to understanding customer reviews.\n",
        "\n",
        "Location: The mention of specific locations in reviews can provide insights into where customers are travelling from and to, which routes are more popular or problematic, and any location-specific issues or praises. This can help airlines optimize their routes and address location-specific concerns.\n",
        "\n",
        "Money: Discussions about money, such as ticket prices, fees, or value for money, are crucial for understanding the financial aspect of customer satisfaction. This aspect can influence a customer's perception of the service quality and their likelihood to recommend the airline.\n",
        "\n",
        "The combination of these named entities with adjectives offers a more comprehensive view of the customer experience, encompassing both the qualitative aspects of service and the quantitative aspects of pricing and location-related factors.\n"
      ],
      "metadata": {
        "id": "-EIsurU33vc0"
      }
    },
    {
      "cell_type": "code",
      "source": [
        "#create empty dataframes that will store your derived datasets\n",
        "\n",
        "derived_dataset1 = pd.DataFrame(columns = ['NPS Score', 'pos_ADJ'])\n",
        "derived_dataset2 = pd.DataFrame(columns = ['NPS Score', 'pos_GPE_LOC_MONEY_ADJ'])"
      ],
      "metadata": {
        "id": "qw0a_2ySyUo2"
      },
      "execution_count": 9,
      "outputs": []
    },
    {
      "cell_type": "code",
      "execution_count": 10,
      "metadata": {
        "id": "Yeak1tAOKTDi"
      },
      "outputs": [],
      "source": [
        "def get_adjectives(sentence):\n",
        "    adjectives = []\n",
        "    for token in sentence:\n",
        "        if token.pos_ == 'ADJ':  # Check for adjectives\n",
        "            adjectives.append(token.lemma_) # Using lemma_ to get the base form of the word\n",
        "    return ' '.join(adjectives)"
      ]
    },
    {
      "cell_type": "code",
      "execution_count": 11,
      "metadata": {
        "id": "147NRzwKKTDj"
      },
      "outputs": [],
      "source": [
        "# Apply the function to the 'tokenized' column to extract adjectives\n",
        "derived_dataset1['pos_ADJ'] = data['tokenized'].apply(get_adjectives)\n",
        "# Copy the customer review text to the derived dataset\n",
        "derived_dataset1['NPS Score'] = data['NPS Score']"
      ]
    },
    {
      "cell_type": "code",
      "execution_count": 12,
      "metadata": {
        "id": "G_bUg_fVKTDk",
        "colab": {
          "base_uri": "https://localhost:8080/",
          "height": 206
        },
        "outputId": "71f5eece-da70-4c5d-93d4-bac01932d83b"
      },
      "outputs": [
        {
          "output_type": "execute_result",
          "data": {
            "text/plain": [
              "   NPS Score                                            pos_ADJ\n",
              "0    Passive  first good nice great Most contradictory littl...\n",
              "1  Detractor                                         first last\n",
              "2  Detractor  several past bad bad normal most useless few w...\n",
              "3   Promoter  excellent inflight extensive easy excellent in...\n",
              "4  Detractor                                 turkish other more"
            ],
            "text/html": [
              "\n",
              "  <div id=\"df-afa5ed11-91bd-436f-aa23-fa6e39a0b995\" class=\"colab-df-container\">\n",
              "    <div>\n",
              "<style scoped>\n",
              "    .dataframe tbody tr th:only-of-type {\n",
              "        vertical-align: middle;\n",
              "    }\n",
              "\n",
              "    .dataframe tbody tr th {\n",
              "        vertical-align: top;\n",
              "    }\n",
              "\n",
              "    .dataframe thead th {\n",
              "        text-align: right;\n",
              "    }\n",
              "</style>\n",
              "<table border=\"1\" class=\"dataframe\">\n",
              "  <thead>\n",
              "    <tr style=\"text-align: right;\">\n",
              "      <th></th>\n",
              "      <th>NPS Score</th>\n",
              "      <th>pos_ADJ</th>\n",
              "    </tr>\n",
              "  </thead>\n",
              "  <tbody>\n",
              "    <tr>\n",
              "      <th>0</th>\n",
              "      <td>Passive</td>\n",
              "      <td>first good nice great Most contradictory littl...</td>\n",
              "    </tr>\n",
              "    <tr>\n",
              "      <th>1</th>\n",
              "      <td>Detractor</td>\n",
              "      <td>first last</td>\n",
              "    </tr>\n",
              "    <tr>\n",
              "      <th>2</th>\n",
              "      <td>Detractor</td>\n",
              "      <td>several past bad bad normal most useless few w...</td>\n",
              "    </tr>\n",
              "    <tr>\n",
              "      <th>3</th>\n",
              "      <td>Promoter</td>\n",
              "      <td>excellent inflight extensive easy excellent in...</td>\n",
              "    </tr>\n",
              "    <tr>\n",
              "      <th>4</th>\n",
              "      <td>Detractor</td>\n",
              "      <td>turkish other more</td>\n",
              "    </tr>\n",
              "  </tbody>\n",
              "</table>\n",
              "</div>\n",
              "    <div class=\"colab-df-buttons\">\n",
              "\n",
              "  <div class=\"colab-df-container\">\n",
              "    <button class=\"colab-df-convert\" onclick=\"convertToInteractive('df-afa5ed11-91bd-436f-aa23-fa6e39a0b995')\"\n",
              "            title=\"Convert this dataframe to an interactive table.\"\n",
              "            style=\"display:none;\">\n",
              "\n",
              "  <svg xmlns=\"http://www.w3.org/2000/svg\" height=\"24px\" viewBox=\"0 -960 960 960\">\n",
              "    <path d=\"M120-120v-720h720v720H120Zm60-500h600v-160H180v160Zm220 220h160v-160H400v160Zm0 220h160v-160H400v160ZM180-400h160v-160H180v160Zm440 0h160v-160H620v160ZM180-180h160v-160H180v160Zm440 0h160v-160H620v160Z\"/>\n",
              "  </svg>\n",
              "    </button>\n",
              "\n",
              "  <style>\n",
              "    .colab-df-container {\n",
              "      display:flex;\n",
              "      gap: 12px;\n",
              "    }\n",
              "\n",
              "    .colab-df-convert {\n",
              "      background-color: #E8F0FE;\n",
              "      border: none;\n",
              "      border-radius: 50%;\n",
              "      cursor: pointer;\n",
              "      display: none;\n",
              "      fill: #1967D2;\n",
              "      height: 32px;\n",
              "      padding: 0 0 0 0;\n",
              "      width: 32px;\n",
              "    }\n",
              "\n",
              "    .colab-df-convert:hover {\n",
              "      background-color: #E2EBFA;\n",
              "      box-shadow: 0px 1px 2px rgba(60, 64, 67, 0.3), 0px 1px 3px 1px rgba(60, 64, 67, 0.15);\n",
              "      fill: #174EA6;\n",
              "    }\n",
              "\n",
              "    .colab-df-buttons div {\n",
              "      margin-bottom: 4px;\n",
              "    }\n",
              "\n",
              "    [theme=dark] .colab-df-convert {\n",
              "      background-color: #3B4455;\n",
              "      fill: #D2E3FC;\n",
              "    }\n",
              "\n",
              "    [theme=dark] .colab-df-convert:hover {\n",
              "      background-color: #434B5C;\n",
              "      box-shadow: 0px 1px 3px 1px rgba(0, 0, 0, 0.15);\n",
              "      filter: drop-shadow(0px 1px 2px rgba(0, 0, 0, 0.3));\n",
              "      fill: #FFFFFF;\n",
              "    }\n",
              "  </style>\n",
              "\n",
              "    <script>\n",
              "      const buttonEl =\n",
              "        document.querySelector('#df-afa5ed11-91bd-436f-aa23-fa6e39a0b995 button.colab-df-convert');\n",
              "      buttonEl.style.display =\n",
              "        google.colab.kernel.accessAllowed ? 'block' : 'none';\n",
              "\n",
              "      async function convertToInteractive(key) {\n",
              "        const element = document.querySelector('#df-afa5ed11-91bd-436f-aa23-fa6e39a0b995');\n",
              "        const dataTable =\n",
              "          await google.colab.kernel.invokeFunction('convertToInteractive',\n",
              "                                                    [key], {});\n",
              "        if (!dataTable) return;\n",
              "\n",
              "        const docLinkHtml = 'Like what you see? Visit the ' +\n",
              "          '<a target=\"_blank\" href=https://colab.research.google.com/notebooks/data_table.ipynb>data table notebook</a>'\n",
              "          + ' to learn more about interactive tables.';\n",
              "        element.innerHTML = '';\n",
              "        dataTable['output_type'] = 'display_data';\n",
              "        await google.colab.output.renderOutput(dataTable, element);\n",
              "        const docLink = document.createElement('div');\n",
              "        docLink.innerHTML = docLinkHtml;\n",
              "        element.appendChild(docLink);\n",
              "      }\n",
              "    </script>\n",
              "  </div>\n",
              "\n",
              "\n",
              "<div id=\"df-bbc810ee-5e89-4869-9072-15f50eb18d16\">\n",
              "  <button class=\"colab-df-quickchart\" onclick=\"quickchart('df-bbc810ee-5e89-4869-9072-15f50eb18d16')\"\n",
              "            title=\"Suggest charts\"\n",
              "            style=\"display:none;\">\n",
              "\n",
              "<svg xmlns=\"http://www.w3.org/2000/svg\" height=\"24px\"viewBox=\"0 0 24 24\"\n",
              "     width=\"24px\">\n",
              "    <g>\n",
              "        <path d=\"M19 3H5c-1.1 0-2 .9-2 2v14c0 1.1.9 2 2 2h14c1.1 0 2-.9 2-2V5c0-1.1-.9-2-2-2zM9 17H7v-7h2v7zm4 0h-2V7h2v10zm4 0h-2v-4h2v4z\"/>\n",
              "    </g>\n",
              "</svg>\n",
              "  </button>\n",
              "\n",
              "<style>\n",
              "  .colab-df-quickchart {\n",
              "      --bg-color: #E8F0FE;\n",
              "      --fill-color: #1967D2;\n",
              "      --hover-bg-color: #E2EBFA;\n",
              "      --hover-fill-color: #174EA6;\n",
              "      --disabled-fill-color: #AAA;\n",
              "      --disabled-bg-color: #DDD;\n",
              "  }\n",
              "\n",
              "  [theme=dark] .colab-df-quickchart {\n",
              "      --bg-color: #3B4455;\n",
              "      --fill-color: #D2E3FC;\n",
              "      --hover-bg-color: #434B5C;\n",
              "      --hover-fill-color: #FFFFFF;\n",
              "      --disabled-bg-color: #3B4455;\n",
              "      --disabled-fill-color: #666;\n",
              "  }\n",
              "\n",
              "  .colab-df-quickchart {\n",
              "    background-color: var(--bg-color);\n",
              "    border: none;\n",
              "    border-radius: 50%;\n",
              "    cursor: pointer;\n",
              "    display: none;\n",
              "    fill: var(--fill-color);\n",
              "    height: 32px;\n",
              "    padding: 0;\n",
              "    width: 32px;\n",
              "  }\n",
              "\n",
              "  .colab-df-quickchart:hover {\n",
              "    background-color: var(--hover-bg-color);\n",
              "    box-shadow: 0 1px 2px rgba(60, 64, 67, 0.3), 0 1px 3px 1px rgba(60, 64, 67, 0.15);\n",
              "    fill: var(--button-hover-fill-color);\n",
              "  }\n",
              "\n",
              "  .colab-df-quickchart-complete:disabled,\n",
              "  .colab-df-quickchart-complete:disabled:hover {\n",
              "    background-color: var(--disabled-bg-color);\n",
              "    fill: var(--disabled-fill-color);\n",
              "    box-shadow: none;\n",
              "  }\n",
              "\n",
              "  .colab-df-spinner {\n",
              "    border: 2px solid var(--fill-color);\n",
              "    border-color: transparent;\n",
              "    border-bottom-color: var(--fill-color);\n",
              "    animation:\n",
              "      spin 1s steps(1) infinite;\n",
              "  }\n",
              "\n",
              "  @keyframes spin {\n",
              "    0% {\n",
              "      border-color: transparent;\n",
              "      border-bottom-color: var(--fill-color);\n",
              "      border-left-color: var(--fill-color);\n",
              "    }\n",
              "    20% {\n",
              "      border-color: transparent;\n",
              "      border-left-color: var(--fill-color);\n",
              "      border-top-color: var(--fill-color);\n",
              "    }\n",
              "    30% {\n",
              "      border-color: transparent;\n",
              "      border-left-color: var(--fill-color);\n",
              "      border-top-color: var(--fill-color);\n",
              "      border-right-color: var(--fill-color);\n",
              "    }\n",
              "    40% {\n",
              "      border-color: transparent;\n",
              "      border-right-color: var(--fill-color);\n",
              "      border-top-color: var(--fill-color);\n",
              "    }\n",
              "    60% {\n",
              "      border-color: transparent;\n",
              "      border-right-color: var(--fill-color);\n",
              "    }\n",
              "    80% {\n",
              "      border-color: transparent;\n",
              "      border-right-color: var(--fill-color);\n",
              "      border-bottom-color: var(--fill-color);\n",
              "    }\n",
              "    90% {\n",
              "      border-color: transparent;\n",
              "      border-bottom-color: var(--fill-color);\n",
              "    }\n",
              "  }\n",
              "</style>\n",
              "\n",
              "  <script>\n",
              "    async function quickchart(key) {\n",
              "      const quickchartButtonEl =\n",
              "        document.querySelector('#' + key + ' button');\n",
              "      quickchartButtonEl.disabled = true;  // To prevent multiple clicks.\n",
              "      quickchartButtonEl.classList.add('colab-df-spinner');\n",
              "      try {\n",
              "        const charts = await google.colab.kernel.invokeFunction(\n",
              "            'suggestCharts', [key], {});\n",
              "      } catch (error) {\n",
              "        console.error('Error during call to suggestCharts:', error);\n",
              "      }\n",
              "      quickchartButtonEl.classList.remove('colab-df-spinner');\n",
              "      quickchartButtonEl.classList.add('colab-df-quickchart-complete');\n",
              "    }\n",
              "    (() => {\n",
              "      let quickchartButtonEl =\n",
              "        document.querySelector('#df-bbc810ee-5e89-4869-9072-15f50eb18d16 button');\n",
              "      quickchartButtonEl.style.display =\n",
              "        google.colab.kernel.accessAllowed ? 'block' : 'none';\n",
              "    })();\n",
              "  </script>\n",
              "</div>\n",
              "    </div>\n",
              "  </div>\n"
            ]
          },
          "metadata": {},
          "execution_count": 12
        }
      ],
      "source": [
        "derived_dataset1.head()"
      ]
    },
    {
      "cell_type": "markdown",
      "source": [
        " We use spaCy to tokenize each review. Our custom function, get_adjectives, is adept at sifting through these tokens to identify and lemmatize adjectives. We then apply this function across our dataset, capturing the essence of customer sentiment in the 'pos' column. This methodical approach aids in creating a focused dataset, primed for deeper sentiment analysis."
      ],
      "metadata": {
        "id": "XZLE6i5ty2TJ"
      }
    },
    {
      "cell_type": "code",
      "source": [
        "def extract_entities_and_adjectives(sentence):\n",
        "    extracted_info = []\n",
        "\n",
        "    # Extracting named entities\n",
        "    for ent in sentence.ents:\n",
        "        if ent.label_ in ['GPE','LOC', 'MONEY']:\n",
        "            extracted_info.append(ent.text)\n",
        "\n",
        "    # Extracting adjectives\n",
        "    for token in sentence:\n",
        "        if token.pos_ == 'ADJ':\n",
        "            extracted_info.append(token.lemma_)\n",
        "\n",
        "    return ' '.join(extracted_info)\n"
      ],
      "metadata": {
        "id": "_1_PQ_bhvUpT"
      },
      "execution_count": 13,
      "outputs": []
    },
    {
      "cell_type": "code",
      "execution_count": 14,
      "metadata": {
        "id": "AuGv-NnfKTDj"
      },
      "outputs": [],
      "source": [
        "# Apply the function to the 'tokenized' column\n",
        "derived_dataset2['pos_GPE_LOC_MONEY_ADJ'] = data['tokenized'].apply(extract_entities_and_adjectives)\n",
        "# Copy the customer review text to the derived dataset\n",
        "derived_dataset2['NPS Score'] = data['NPS Score']\n"
      ]
    },
    {
      "cell_type": "code",
      "source": [
        "# Display the first few rows of the derived dataset\n",
        "derived_dataset2.head()\n"
      ],
      "metadata": {
        "colab": {
          "base_uri": "https://localhost:8080/",
          "height": 206
        },
        "id": "a8KEkcLpverX",
        "outputId": "4743e0af-5d1a-4767-f45d-d8caeaea7826"
      },
      "execution_count": 15,
      "outputs": [
        {
          "output_type": "execute_result",
          "data": {
            "text/plain": [
              "   NPS Score                              pos_GPE_LOC_MONEY_ADJ\n",
              "0    Passive  London Istanbul Istanbul Ukraine London Istanb...\n",
              "1  Detractor                                Istanbul first last\n",
              "2  Detractor  Rome Prishtina Istanbul Rome Prishtina Istanbu...\n",
              "3   Promoter  excellent inflight extensive easy excellent in...\n",
              "4  Detractor  Mumbai Dublin Istanbul Dublin Mumbai Mumbai Is..."
            ],
            "text/html": [
              "\n",
              "  <div id=\"df-a30586d5-200f-4a92-a828-28df85b93659\" class=\"colab-df-container\">\n",
              "    <div>\n",
              "<style scoped>\n",
              "    .dataframe tbody tr th:only-of-type {\n",
              "        vertical-align: middle;\n",
              "    }\n",
              "\n",
              "    .dataframe tbody tr th {\n",
              "        vertical-align: top;\n",
              "    }\n",
              "\n",
              "    .dataframe thead th {\n",
              "        text-align: right;\n",
              "    }\n",
              "</style>\n",
              "<table border=\"1\" class=\"dataframe\">\n",
              "  <thead>\n",
              "    <tr style=\"text-align: right;\">\n",
              "      <th></th>\n",
              "      <th>NPS Score</th>\n",
              "      <th>pos_GPE_LOC_MONEY_ADJ</th>\n",
              "    </tr>\n",
              "  </thead>\n",
              "  <tbody>\n",
              "    <tr>\n",
              "      <th>0</th>\n",
              "      <td>Passive</td>\n",
              "      <td>London Istanbul Istanbul Ukraine London Istanb...</td>\n",
              "    </tr>\n",
              "    <tr>\n",
              "      <th>1</th>\n",
              "      <td>Detractor</td>\n",
              "      <td>Istanbul first last</td>\n",
              "    </tr>\n",
              "    <tr>\n",
              "      <th>2</th>\n",
              "      <td>Detractor</td>\n",
              "      <td>Rome Prishtina Istanbul Rome Prishtina Istanbu...</td>\n",
              "    </tr>\n",
              "    <tr>\n",
              "      <th>3</th>\n",
              "      <td>Promoter</td>\n",
              "      <td>excellent inflight extensive easy excellent in...</td>\n",
              "    </tr>\n",
              "    <tr>\n",
              "      <th>4</th>\n",
              "      <td>Detractor</td>\n",
              "      <td>Mumbai Dublin Istanbul Dublin Mumbai Mumbai Is...</td>\n",
              "    </tr>\n",
              "  </tbody>\n",
              "</table>\n",
              "</div>\n",
              "    <div class=\"colab-df-buttons\">\n",
              "\n",
              "  <div class=\"colab-df-container\">\n",
              "    <button class=\"colab-df-convert\" onclick=\"convertToInteractive('df-a30586d5-200f-4a92-a828-28df85b93659')\"\n",
              "            title=\"Convert this dataframe to an interactive table.\"\n",
              "            style=\"display:none;\">\n",
              "\n",
              "  <svg xmlns=\"http://www.w3.org/2000/svg\" height=\"24px\" viewBox=\"0 -960 960 960\">\n",
              "    <path d=\"M120-120v-720h720v720H120Zm60-500h600v-160H180v160Zm220 220h160v-160H400v160Zm0 220h160v-160H400v160ZM180-400h160v-160H180v160Zm440 0h160v-160H620v160ZM180-180h160v-160H180v160Zm440 0h160v-160H620v160Z\"/>\n",
              "  </svg>\n",
              "    </button>\n",
              "\n",
              "  <style>\n",
              "    .colab-df-container {\n",
              "      display:flex;\n",
              "      gap: 12px;\n",
              "    }\n",
              "\n",
              "    .colab-df-convert {\n",
              "      background-color: #E8F0FE;\n",
              "      border: none;\n",
              "      border-radius: 50%;\n",
              "      cursor: pointer;\n",
              "      display: none;\n",
              "      fill: #1967D2;\n",
              "      height: 32px;\n",
              "      padding: 0 0 0 0;\n",
              "      width: 32px;\n",
              "    }\n",
              "\n",
              "    .colab-df-convert:hover {\n",
              "      background-color: #E2EBFA;\n",
              "      box-shadow: 0px 1px 2px rgba(60, 64, 67, 0.3), 0px 1px 3px 1px rgba(60, 64, 67, 0.15);\n",
              "      fill: #174EA6;\n",
              "    }\n",
              "\n",
              "    .colab-df-buttons div {\n",
              "      margin-bottom: 4px;\n",
              "    }\n",
              "\n",
              "    [theme=dark] .colab-df-convert {\n",
              "      background-color: #3B4455;\n",
              "      fill: #D2E3FC;\n",
              "    }\n",
              "\n",
              "    [theme=dark] .colab-df-convert:hover {\n",
              "      background-color: #434B5C;\n",
              "      box-shadow: 0px 1px 3px 1px rgba(0, 0, 0, 0.15);\n",
              "      filter: drop-shadow(0px 1px 2px rgba(0, 0, 0, 0.3));\n",
              "      fill: #FFFFFF;\n",
              "    }\n",
              "  </style>\n",
              "\n",
              "    <script>\n",
              "      const buttonEl =\n",
              "        document.querySelector('#df-a30586d5-200f-4a92-a828-28df85b93659 button.colab-df-convert');\n",
              "      buttonEl.style.display =\n",
              "        google.colab.kernel.accessAllowed ? 'block' : 'none';\n",
              "\n",
              "      async function convertToInteractive(key) {\n",
              "        const element = document.querySelector('#df-a30586d5-200f-4a92-a828-28df85b93659');\n",
              "        const dataTable =\n",
              "          await google.colab.kernel.invokeFunction('convertToInteractive',\n",
              "                                                    [key], {});\n",
              "        if (!dataTable) return;\n",
              "\n",
              "        const docLinkHtml = 'Like what you see? Visit the ' +\n",
              "          '<a target=\"_blank\" href=https://colab.research.google.com/notebooks/data_table.ipynb>data table notebook</a>'\n",
              "          + ' to learn more about interactive tables.';\n",
              "        element.innerHTML = '';\n",
              "        dataTable['output_type'] = 'display_data';\n",
              "        await google.colab.output.renderOutput(dataTable, element);\n",
              "        const docLink = document.createElement('div');\n",
              "        docLink.innerHTML = docLinkHtml;\n",
              "        element.appendChild(docLink);\n",
              "      }\n",
              "    </script>\n",
              "  </div>\n",
              "\n",
              "\n",
              "<div id=\"df-de9f7681-4c3f-48ef-8115-fd993cf6a982\">\n",
              "  <button class=\"colab-df-quickchart\" onclick=\"quickchart('df-de9f7681-4c3f-48ef-8115-fd993cf6a982')\"\n",
              "            title=\"Suggest charts\"\n",
              "            style=\"display:none;\">\n",
              "\n",
              "<svg xmlns=\"http://www.w3.org/2000/svg\" height=\"24px\"viewBox=\"0 0 24 24\"\n",
              "     width=\"24px\">\n",
              "    <g>\n",
              "        <path d=\"M19 3H5c-1.1 0-2 .9-2 2v14c0 1.1.9 2 2 2h14c1.1 0 2-.9 2-2V5c0-1.1-.9-2-2-2zM9 17H7v-7h2v7zm4 0h-2V7h2v10zm4 0h-2v-4h2v4z\"/>\n",
              "    </g>\n",
              "</svg>\n",
              "  </button>\n",
              "\n",
              "<style>\n",
              "  .colab-df-quickchart {\n",
              "      --bg-color: #E8F0FE;\n",
              "      --fill-color: #1967D2;\n",
              "      --hover-bg-color: #E2EBFA;\n",
              "      --hover-fill-color: #174EA6;\n",
              "      --disabled-fill-color: #AAA;\n",
              "      --disabled-bg-color: #DDD;\n",
              "  }\n",
              "\n",
              "  [theme=dark] .colab-df-quickchart {\n",
              "      --bg-color: #3B4455;\n",
              "      --fill-color: #D2E3FC;\n",
              "      --hover-bg-color: #434B5C;\n",
              "      --hover-fill-color: #FFFFFF;\n",
              "      --disabled-bg-color: #3B4455;\n",
              "      --disabled-fill-color: #666;\n",
              "  }\n",
              "\n",
              "  .colab-df-quickchart {\n",
              "    background-color: var(--bg-color);\n",
              "    border: none;\n",
              "    border-radius: 50%;\n",
              "    cursor: pointer;\n",
              "    display: none;\n",
              "    fill: var(--fill-color);\n",
              "    height: 32px;\n",
              "    padding: 0;\n",
              "    width: 32px;\n",
              "  }\n",
              "\n",
              "  .colab-df-quickchart:hover {\n",
              "    background-color: var(--hover-bg-color);\n",
              "    box-shadow: 0 1px 2px rgba(60, 64, 67, 0.3), 0 1px 3px 1px rgba(60, 64, 67, 0.15);\n",
              "    fill: var(--button-hover-fill-color);\n",
              "  }\n",
              "\n",
              "  .colab-df-quickchart-complete:disabled,\n",
              "  .colab-df-quickchart-complete:disabled:hover {\n",
              "    background-color: var(--disabled-bg-color);\n",
              "    fill: var(--disabled-fill-color);\n",
              "    box-shadow: none;\n",
              "  }\n",
              "\n",
              "  .colab-df-spinner {\n",
              "    border: 2px solid var(--fill-color);\n",
              "    border-color: transparent;\n",
              "    border-bottom-color: var(--fill-color);\n",
              "    animation:\n",
              "      spin 1s steps(1) infinite;\n",
              "  }\n",
              "\n",
              "  @keyframes spin {\n",
              "    0% {\n",
              "      border-color: transparent;\n",
              "      border-bottom-color: var(--fill-color);\n",
              "      border-left-color: var(--fill-color);\n",
              "    }\n",
              "    20% {\n",
              "      border-color: transparent;\n",
              "      border-left-color: var(--fill-color);\n",
              "      border-top-color: var(--fill-color);\n",
              "    }\n",
              "    30% {\n",
              "      border-color: transparent;\n",
              "      border-left-color: var(--fill-color);\n",
              "      border-top-color: var(--fill-color);\n",
              "      border-right-color: var(--fill-color);\n",
              "    }\n",
              "    40% {\n",
              "      border-color: transparent;\n",
              "      border-right-color: var(--fill-color);\n",
              "      border-top-color: var(--fill-color);\n",
              "    }\n",
              "    60% {\n",
              "      border-color: transparent;\n",
              "      border-right-color: var(--fill-color);\n",
              "    }\n",
              "    80% {\n",
              "      border-color: transparent;\n",
              "      border-right-color: var(--fill-color);\n",
              "      border-bottom-color: var(--fill-color);\n",
              "    }\n",
              "    90% {\n",
              "      border-color: transparent;\n",
              "      border-bottom-color: var(--fill-color);\n",
              "    }\n",
              "  }\n",
              "</style>\n",
              "\n",
              "  <script>\n",
              "    async function quickchart(key) {\n",
              "      const quickchartButtonEl =\n",
              "        document.querySelector('#' + key + ' button');\n",
              "      quickchartButtonEl.disabled = true;  // To prevent multiple clicks.\n",
              "      quickchartButtonEl.classList.add('colab-df-spinner');\n",
              "      try {\n",
              "        const charts = await google.colab.kernel.invokeFunction(\n",
              "            'suggestCharts', [key], {});\n",
              "      } catch (error) {\n",
              "        console.error('Error during call to suggestCharts:', error);\n",
              "      }\n",
              "      quickchartButtonEl.classList.remove('colab-df-spinner');\n",
              "      quickchartButtonEl.classList.add('colab-df-quickchart-complete');\n",
              "    }\n",
              "    (() => {\n",
              "      let quickchartButtonEl =\n",
              "        document.querySelector('#df-de9f7681-4c3f-48ef-8115-fd993cf6a982 button');\n",
              "      quickchartButtonEl.style.display =\n",
              "        google.colab.kernel.accessAllowed ? 'block' : 'none';\n",
              "    })();\n",
              "  </script>\n",
              "</div>\n",
              "    </div>\n",
              "  </div>\n"
            ]
          },
          "metadata": {},
          "execution_count": 15
        }
      ]
    },
    {
      "cell_type": "markdown",
      "source": [
        " The function extract_entities_and_adjectives is central to this process. It meticulously scans each sentence, utilizing spaCy's NLP capabilities to identify and extract named entities categorized as Geopolitical Entities (GPE), Locations (LOC), and Monetary values (MONEY). Concurrently, it captures adjectives in our lemmatized form for uniformity. This function is applied across our tokenized reviews, integrating these elements into derived_dataset2.\n",
        "\n",
        " These approaches to dataset derivation is designed to maximize the relevance and utility of the data for our machine learning models, allowing for more nuanced and actionable insights into airline passenger reviews."
      ],
      "metadata": {
        "id": "nsi9Zse8zGl9"
      }
    },
    {
      "cell_type": "markdown",
      "metadata": {
        "id": "5pX4RgKhKTDk"
      },
      "source": [
        "****"
      ]
    },
    {
      "cell_type": "markdown",
      "source": [
        "**3. Perform Classification Task**"
      ],
      "metadata": {
        "id": "1GhniwHtzfQt"
      }
    },
    {
      "cell_type": "markdown",
      "source": [
        "**1) Encode the text as input features with associated values**"
      ],
      "metadata": {
        "id": "_M5K9Zjb4ok-"
      }
    },
    {
      "cell_type": "code",
      "source": [
        "from sklearn.feature_extraction.text import TfidfVectorizer\n",
        "from sklearn.preprocessing import StandardScaler\n",
        "\n",
        "# Using TfidfVectorizer\n",
        "tfidf_vectorizer = TfidfVectorizer(stop_words='english')\n",
        "X_original = tfidf_vectorizer.fit_transform(data['customer_review'])\n",
        "y_original = data['NPS Score']\n",
        "\n",
        "X_derived1 = tfidf_vectorizer.fit_transform(derived_dataset1['pos_ADJ'])\n",
        "y_derived1 = derived_dataset1['NPS Score']\n",
        "\n",
        "\n",
        "X_derived2 = tfidf_vectorizer.fit_transform(derived_dataset2['pos_GPE_LOC_MONEY_ADJ'])\n",
        "y_derived2 = derived_dataset2['NPS Score']"
      ],
      "metadata": {
        "id": "rwD8sFxh4pB6"
      },
      "execution_count": 16,
      "outputs": []
    },
    {
      "cell_type": "markdown",
      "source": [
        "The TfidfVectorizer from Scikit-learn's feature_extraction.text is used for text data transformation. It converts the airline passenger reviews into a matrix of TF-IDF features. By setting stop_words to 'english', common words are filtered out, reducing feature space dimensionality. The fit_transform method learns vocabulary and idf weightings from the text, creating a matrix where each row represents a review and each column, a unique word. The matrix values are TF-IDF scores, indicating the relative importance of words in each document, making it an effective tool for text-based machine learning tasks."
      ],
      "metadata": {
        "id": "ol09USij7LY4"
      }
    },
    {
      "cell_type": "markdown",
      "source": [
        "**2) Define 2 models using some default parameters**"
      ],
      "metadata": {
        "id": "RUmoxoDT7lLI"
      }
    },
    {
      "cell_type": "code",
      "source": [
        "from sklearn.linear_model import LogisticRegression\n",
        "from sklearn.preprocessing import MaxAbsScaler\n",
        "from sklearn.pipeline import make_pipeline\n",
        "\n",
        "# Defining a Logistic Regression model with default parameters\n",
        "logistic_regression_model = make_pipeline(MaxAbsScaler(), LogisticRegression(max_iter=1000))\n",
        "\n",
        "\n",
        "\n"
      ],
      "metadata": {
        "id": "woxSWOwP76-R"
      },
      "execution_count": 17,
      "outputs": []
    },
    {
      "cell_type": "markdown",
      "source": [
        "The LogisticRegression model in scikit-learn is defined with default parameters for simplicity. Key parameters include solver='lbfgs' for optimization and max_iter=100 for iteration limit. This model, suitable for binary classification tasks, applies logistic function to model probabilities, making it effective for scenarios where a binary outcome is expected. The get_params() method retrieves these settings, providing insights into the model's configuration before training and prediction."
      ],
      "metadata": {
        "id": "xGrH6hhm77w7"
      }
    },
    {
      "cell_type": "code",
      "source": [
        "from sklearn.neural_network import MLPClassifier\n",
        "\n",
        "# Defining a Multilayer Perceptron (MLP) model with default parameters\n",
        "mlp_model = MLPClassifier(hidden_layer_sizes=(50,), max_iter=200)\n"
      ],
      "metadata": {
        "id": "ertVEHm578BF"
      },
      "execution_count": 18,
      "outputs": []
    },
    {
      "cell_type": "markdown",
      "source": [
        "\n",
        "The MLPClassifier from scikit-learn defines a default Multilayer Perceptron model, a type of neural network. Key parameters include hidden_layer_sizes=(100,), setting one hidden layer with 100 neurons, and activation='relu', using the ReLU activation function. The solver='adam' optimizes network weights, and max_iter=200 specifies the maximum training iterations. The get_params() method retrieves these default settings, essential for understanding the model's initial configuration before customization and training."
      ],
      "metadata": {
        "id": "dhO-FKYf7_sb"
      }
    },
    {
      "cell_type": "markdown",
      "source": [
        "**3) Train/test/evaluate the 2 models on our 3 datasets**"
      ],
      "metadata": {
        "id": "ogQHN4G6-a0Y"
      }
    },
    {
      "cell_type": "markdown",
      "source": [
        "First we used KFold cross-validation to evaluate the models. This method splits the dataset into a specified number of 'folds'. In each iteration, one fold is used for testing, and the rest for training. This approach helps in assessing the model's performance across different subsets of data, ensuring a more robust evaluation."
      ],
      "metadata": {
        "id": "TlgghOGjqkhS"
      }
    },
    {
      "cell_type": "code",
      "source": [
        "from sklearn.model_selection import KFold, cross_val_score\n",
        "from sklearn.metrics import make_scorer, precision_score, recall_score\n",
        "from sklearn.metrics import f1_score\n",
        "\n",
        "# Define the custom scoring functions for micro and macro averages\n",
        "def custom_score_micro(y_true, y_pred):\n",
        "    precision = precision_score(y_true, y_pred, average='micro')\n",
        "    recall = recall_score(y_true, y_pred, average='micro')\n",
        "    f1 = f1_score(y_true, y_pred, average='micro')\n",
        "    return np.mean([precision, recall, f1])\n",
        "\n",
        "def custom_score_macro(y_true, y_pred):\n",
        "    precision = precision_score(y_true, y_pred, average='macro')\n",
        "    recall = recall_score(y_true, y_pred, average='macro')\n",
        "    f1 = f1_score(y_true, y_pred, average='macro')\n",
        "    return np.mean([precision, recall, f1])\n",
        "\n",
        "\n",
        "kf = KFold(n_splits=4)"
      ],
      "metadata": {
        "id": "uDVY8Yt2_WIf"
      },
      "execution_count": 19,
      "outputs": []
    },
    {
      "cell_type": "markdown",
      "source": [
        "MLP (Multilayer Perceptron) is a type of neural network model. It's more complex than logistic regression and can capture non-linear relationships in the data. It’s particularly useful when the relationship between features and classes is not straightforward."
      ],
      "metadata": {
        "id": "I0JgpitsrzQk"
      }
    },
    {
      "cell_type": "code",
      "source": [
        "# Datasets\n",
        "datasets = {\n",
        "    'original': (X_original, y_original),\n",
        "    'derived1': (X_derived1, y_derived1),\n",
        "    'derived2': (X_derived2, y_derived2)\n",
        "}\n",
        "\n",
        "# Prepare a DataFrame to store results\n",
        "results = []\n",
        "\n",
        "# Evaluate each model on each dataset\n",
        "for dataset_name, (X, y) in datasets.items():\n",
        "    for model_name, model in {'Logistic Regression': logistic_regression_model, 'MLP': mlp_model}.items():\n",
        "        scores_micro = cross_val_score(model, X, y, cv=kf, scoring=lambda estimator, X, y: custom_score_micro(y, estimator.predict(X)))\n",
        "        scores_macro = cross_val_score(model, X, y, cv=kf, scoring=lambda estimator, X, y: custom_score_macro(y, estimator.predict(X)))\n",
        "        results.append({\n",
        "            'Model': model_name,\n",
        "            'Dataset': dataset_name,\n",
        "            'Micro Average': np.mean(scores_micro),\n",
        "            'Macro Average': np.mean(scores_macro)\n",
        "        })\n",
        "\n",
        "# Convert results to DataFrame\n",
        "results_df = pd.DataFrame(results)\n",
        "\n",
        "# Display the results\n",
        "print(results_df)\n",
        "\n"
      ],
      "metadata": {
        "colab": {
          "base_uri": "https://localhost:8080/"
        },
        "id": "IL9SMFJJSk4Z",
        "outputId": "98d99806-3e0f-48d4-9824-1801364d8338"
      },
      "execution_count": 20,
      "outputs": [
        {
          "output_type": "stream",
          "name": "stderr",
          "text": [
            "/usr/local/lib/python3.10/dist-packages/sklearn/neural_network/_multilayer_perceptron.py:686: ConvergenceWarning: Stochastic Optimizer: Maximum iterations (200) reached and the optimization hasn't converged yet.\n",
            "  warnings.warn(\n"
          ]
        },
        {
          "output_type": "stream",
          "name": "stdout",
          "text": [
            "                 Model   Dataset  Micro Average  Macro Average\n",
            "0  Logistic Regression  original       0.762388       0.659122\n",
            "1                  MLP  original       0.741014       0.645936\n",
            "2  Logistic Regression  derived1       0.756531       0.637660\n",
            "3                  MLP  derived1       0.671686       0.580654\n",
            "4  Logistic Regression  derived2       0.746775       0.636026\n",
            "5                  MLP  derived2       0.655613       0.569178\n"
          ]
        },
        {
          "output_type": "stream",
          "name": "stderr",
          "text": [
            "/usr/local/lib/python3.10/dist-packages/sklearn/neural_network/_multilayer_perceptron.py:686: ConvergenceWarning: Stochastic Optimizer: Maximum iterations (200) reached and the optimization hasn't converged yet.\n",
            "  warnings.warn(\n"
          ]
        }
      ]
    },
    {
      "cell_type": "markdown",
      "source": [
        "The performance scores for Logistic Regression on the original dataset were [0.70828688, 0.71858736, 0.76914498, 0.8535316]. Each number here represents the model's performance on a different fold of the data. For instance, on the first fold, the model achieved a score of 0.70828688.\n",
        "\n",
        "Our MLP model's scores on this dataset might look like [0.66555184, 0.63085502, 0.67286245, 0.73568773]. These scores reflect the model's performance on each fold. The first fold's score of 0.66555184, for instance, shows how the model fared on that subset.\n",
        "\n",
        "These scores help us understand how well each model performed on different parts of our data. A high score, like 0.8535316 in Logistic Regression on the fourth fold of the original dataset, suggests good model accuracy for that data subset. By comparing the scores across different folds and datasets, we get a clear picture of how robust our models are. If, for instance, Logistic Regression consistently performs better than MLP across most folds and datasets, it suggests that this model might be a more reliable choice for our classification task."
      ],
      "metadata": {
        "id": "uvh3sUsurDEK"
      }
    },
    {
      "cell_type": "markdown",
      "source": [
        "**4) Modify some parameters of the MLP model and perform a train/test/evaluate again.**"
      ],
      "metadata": {
        "id": "ES_DF877kUOO"
      }
    },
    {
      "cell_type": "markdown",
      "source": [
        "Experiment 1: Increasing the hidden layer size to 150 and changing the activation function to 'tanh'. This might help the model to capture more complex patterns.\n",
        "Experiment 2: Adjusting the learning rate to 0.01 and changing the solver to 'sgd'. This could impact how quickly and effectively the model converges to a solution.\n"
      ],
      "metadata": {
        "id": "V34mIjkykvfk"
      }
    },
    {
      "cell_type": "code",
      "source": [
        "# Define MLP with larger hidden layer and tanh activation\n",
        "mlp_model_exp1 = MLPClassifier(hidden_layer_sizes=(150,), activation='tanh', max_iter=250, early_stopping=True, validation_fraction=0.1)\n",
        "\n",
        "# Evaluation for each dataset\n",
        "for dataset_name, (X, y) in datasets.items():\n",
        "    for average_method in ['micro', 'macro']:\n",
        "        # Define a custom scorer\n",
        "        custom_scorer = make_scorer(lambda y_true, y_pred: np.mean([\n",
        "            precision_score(y_true, y_pred, average=average_method),\n",
        "            recall_score(y_true, y_pred, average=average_method),\n",
        "            f1_score(y_true, y_pred, average=average_method)\n",
        "        ]))\n",
        "\n",
        "        # Perform cross-validation and scoring\n",
        "        scores_mlp = cross_val_score(mlp_model_exp1, X, y, cv=kf, scoring=custom_scorer)\n",
        "        print(f\"Dataset: {dataset_name}, MLP Scores with Larger Hidden Layer and tanh Activation ({average_method} average): {scores_mlp}\")\n",
        "\n",
        "\n"
      ],
      "metadata": {
        "colab": {
          "base_uri": "https://localhost:8080/"
        },
        "id": "eUtggO-3kVPA",
        "outputId": "14be5bae-f544-4799-e779-e7aa2a3dbcfb"
      },
      "execution_count": 21,
      "outputs": [
        {
          "output_type": "stream",
          "name": "stdout",
          "text": [
            "Dataset: original, MLP Scores with Larger Hidden Layer and tanh Activation (micro average): [0.70308436 0.72304833 0.76840149 0.85799257]\n",
            "Dataset: original, MLP Scores with Larger Hidden Layer and tanh Activation (macro average): [0.66375506 0.66731123 0.68756795 0.63858367]\n",
            "Dataset: derived1, MLP Scores with Larger Hidden Layer and tanh Activation (micro average): [0.73392791 0.70371747 0.76802974 0.84052045]\n",
            "Dataset: derived1, MLP Scores with Larger Hidden Layer and tanh Activation (macro average): [0.63934174 0.63455791 0.63346286 0.63145829]\n",
            "Dataset: derived2, MLP Scores with Larger Hidden Layer and tanh Activation (micro average): [0.71646228 0.69553903 0.76022305 0.84423792]\n",
            "Dataset: derived2, MLP Scores with Larger Hidden Layer and tanh Activation (macro average): [0.64224209 0.62718396 0.65966777 0.59994952]\n"
          ]
        }
      ]
    },
    {
      "cell_type": "markdown",
      "source": [
        "Experiment 1: Changing Hidden Layer Size and Activation Function\n",
        "In this first experiment, we'll increase the size of the hidden layer and change the activation function. This should impact the model's ability to capture more complex patterns and potentially improve performance."
      ],
      "metadata": {
        "id": "6XNDgnvzk1EE"
      }
    },
    {
      "cell_type": "code",
      "source": [
        "# Define MLP with adjusted learning rate and sgd solver\n",
        "mlp_model_exp2 = MLPClassifier(hidden_layer_sizes=(50,), learning_rate_init=0.01, solver='sgd', max_iter=300, early_stopping=True, validation_fraction=0.1, n_iter_no_change=5)\n",
        "\n",
        "# Evaluation for each dataset\n",
        "for dataset_name, (X, y) in datasets.items():\n",
        "    for average_method in ['micro', 'macro']:\n",
        "        # Define a custom scorer\n",
        "        custom_scorer = make_scorer(lambda y_true, y_pred: np.mean([\n",
        "            precision_score(y_true, y_pred, average=average_method),\n",
        "            recall_score(y_true, y_pred, average=average_method),\n",
        "            f1_score(y_true, y_pred, average=average_method)\n",
        "        ]))\n",
        "\n",
        "        # Perform cross-validation and scoring\n",
        "        scores_mlp = cross_val_score(mlp_model_exp2, X, y, cv=kf, scoring=custom_scorer)\n",
        "        print(f\"Dataset: {dataset_name}, MLP Scores with Adjusted Learning Rate and sgd Solver ({average_method} average): {scores_mlp}\")\n",
        "\n"
      ],
      "metadata": {
        "colab": {
          "base_uri": "https://localhost:8080/"
        },
        "id": "QrvxPv53ko_4",
        "outputId": "efb75cc8-eb16-42d5-ea78-8d4b731eeb13"
      },
      "execution_count": 22,
      "outputs": [
        {
          "output_type": "stream",
          "name": "stdout",
          "text": [
            "Dataset: original, MLP Scores with Adjusted Learning Rate and sgd Solver (micro average): [0.74358974 0.68847584 0.78438662 0.8527881 ]\n",
            "Dataset: original, MLP Scores with Adjusted Learning Rate and sgd Solver (macro average): [0.66094398 0.67192756 0.6719866  0.5999726 ]\n",
            "Dataset: derived1, MLP Scores with Adjusted Learning Rate and sgd Solver (micro average): [0.71534745 0.69405204 0.74089219 0.84052045]\n",
            "Dataset: derived1, MLP Scores with Adjusted Learning Rate and sgd Solver (macro average): [0.58984695 0.6150631  0.62534299 0.63702375]\n",
            "Dataset: derived2, MLP Scores with Adjusted Learning Rate and sgd Solver (micro average): [0.73467113 0.66914498 0.75836431 0.85055762]\n",
            "Dataset: derived2, MLP Scores with Adjusted Learning Rate and sgd Solver (macro average): [0.63421536 0.59986896 0.58123586 0.61148857]\n"
          ]
        }
      ]
    },
    {
      "cell_type": "markdown",
      "source": [
        "Experiment 2: Modifying Learning Rate and Solver\n",
        "In the second experiment, we'll adjust the learning rate and change the solver. These changes can affect the speed and convergence of the model's training process."
      ],
      "metadata": {
        "id": "HdF4AnFZk4hA"
      }
    },
    {
      "cell_type": "markdown",
      "source": [
        "****\n",
        "\n",
        "## **Reference**\n",
        "[1] “Spacy · industrial-strength natural language processing in python,” · Industrial-strength Natural Language Processing in Python, https://spacy.io/ (accessed Dec. 3, 2023).\n",
        "\n",
        "[2] “Linguistic features · spacy usage documentation,” Linguistic Features, https://spacy.io/usage/linguistic-features (accessed Dec. 3, 2023).\n",
        "\n",
        "[3] “Sklearn.neural_network.MLPClassifier,” scikit, https://scikit-learn.org/stable/modules/generated/sklearn.neural_network.MLPClassifier.html (accessed Dec. 3, 2023)."
      ],
      "metadata": {
        "id": "xnYqBWkD9OAe"
      }
    }
  ],
  "metadata": {
    "kernelspec": {
      "display_name": "Python 3",
      "language": "python",
      "name": "python3"
    },
    "language_info": {
      "codemirror_mode": {
        "name": "ipython",
        "version": 3
      },
      "file_extension": ".py",
      "mimetype": "text/x-python",
      "name": "python",
      "nbconvert_exporter": "python",
      "pygments_lexer": "ipython3",
      "version": "3.8.10"
    },
    "colab": {
      "provenance": [],
      "include_colab_link": true
    }
  },
  "nbformat": 4,
  "nbformat_minor": 0
}