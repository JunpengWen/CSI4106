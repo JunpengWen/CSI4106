{
  "cells": [
    {
      "cell_type": "markdown",
      "metadata": {
        "id": "view-in-github",
        "colab_type": "text"
      },
      "source": [
        "<a href=\"https://colab.research.google.com/github/JunpengWen/CSI4106/blob/main/CSI4106_A2.ipynb\" target=\"_parent\"><img src=\"https://colab.research.google.com/assets/colab-badge.svg\" alt=\"Open In Colab\"/></a>"
      ]
    },
    {
      "cell_type": "markdown",
      "source": [
        "**ASSIGNMENT 2 - EMPIRICAL STUDY OF Naïve Bayes vs Logistic Regression**"
      ],
      "metadata": {
        "id": "SPeulvp-meob"
      }
    },
    {
      "cell_type": "markdown",
      "source": [
        "**1. Group Description**\n",
        "\n",
        "Group Number: 53 \\\\\n",
        "Member1 Names: Junpeng Wen \\\\\n",
        "Member1 Student Numbers: 300249282 \\\\\n",
        "Member2 Names: Yongquan Long \\\\\n",
        "Member2 Student Numbers: 300249549 \\\\"
      ],
      "metadata": {
        "id": "f2Eeke4Z_EkW"
      }
    },
    {
      "cell_type": "markdown",
      "source": [
        "**2. Naïve Bayes vs Logistic Regression**\n",
        "\n",
        "Naïve Bayes and Logistic Regression are two predominant algorithms employed in the realm of machine learning for classification tasks, each embodying unique attributes and functionalities.\n",
        "\n",
        "Naïve Bayes, a probabilistic algorithm, operates on the principle of feature independence given the class label. This method is particularly proficient in handling multi-class classification tasks and is advantageous in scenarios where the availability of training data is limited. However, its performance may be compromised when the assumption of feature independence is not upheld. On the other hand, Logistic Regression, which falls under the category of discriminative models, is utilized to ascertain the probability of class membership, thereby delineating a linear decision boundary. This algorithm is commendably resilient in the presence of noisy data. Nonetheless, it is susceptible to overfitting, particularly when applied to small datasets that are characterized by a plethora of features.\n",
        "\n",
        "The decision to opt for either Naïve Bayes or Logistic Regression is contingent upon various factors including the nature of the task at hand, the characteristics inherent to the dataset, as well as the significance accorded to model interpretability and computational efficiency in the specific context."
      ],
      "metadata": {
        "id": "Yq6OGiMX_da0"
      }
    },
    {
      "cell_type": "markdown",
      "source": [
        "**3. Dataset**\n",
        "\n",
        "The dataset from the UC Irvine Machine Learning Repository(https://archive.ics.uci.edu/dataset/863/maternal+health+risk), specifically focusing on maternal health risk, presents a valuable opportunity for researchers and practitioners to engage in comprehensive analysis and experimentation with various machine learning algorithms. This dataset encompasses a range of variables that are crucial in determining the health risks associated with pregnancy, offering insights into important patterns and correlations. Utilizing this dataset enables the development and validation of predictive models, such as Naïve Bayes and Logistic Regression, to enhance the understanding and management of maternal health risks. The accessibility and richness of this dataset make it a significant resource for advancing knowledge in maternal healthcare, and promoting the adoption of data-driven approaches in medical settings."
      ],
      "metadata": {
        "id": "C8vwHE0G_iOG"
      }
    },
    {
      "cell_type": "markdown",
      "source": [
        "**Import important libraries**"
      ],
      "metadata": {
        "id": "OZTWy1qN2BzY"
      }
    },
    {
      "cell_type": "code",
      "execution_count": 28,
      "metadata": {
        "id": "GmP1buROhaOx"
      },
      "outputs": [],
      "source": [
        "import pandas as pd\n",
        "import itertools\n",
        "import numpy as np\n",
        "import seaborn as sns\n",
        "import matplotlib.pyplot as plt\n",
        "from sklearn.model_selection import train_test_split\n",
        "from sklearn.preprocessing import MinMaxScaler\n",
        "from sklearn.naive_bayes import GaussianNB\n",
        "from sklearn.metrics import accuracy_score, classification_report, confusion_matrix\n",
        "from sklearn.ensemble import RandomForestClassifier\n",
        "from sklearn.datasets import load_iris\n",
        "from sklearn.model_selection import cross_val_predict\n",
        "from sklearn.metrics import precision_score, recall_score"
      ]
    },
    {
      "cell_type": "markdown",
      "source": [
        "**Read Dataset**\n",
        "\n",
        "As outlined in the project description, it should be possible for the correctors to execute your notebook without requiring any downloads.\n",
        "\n",
        "To facilitate access to the dataset without the need for downloads, you can upload it to a public GitHub repository and provide a link to the raw version of the dataset.\n",
        "GitHub repository：\n",
        "\n",
        "https://github.com/JunpengWen/CSI4106\n",
        "\n",
        "The link to the raw version is as follows:\n",
        "\n",
        "https://raw.githubusercontent.com/JunpengWen/CSI4106/main/Maternal%20Health%20Risk%20Data%20Set.csv\n",
        "\n",
        "\n",
        "Now provide the link to YOUR dataset and read the dataset using pandas:"
      ],
      "metadata": {
        "id": "wNJyoeCz00Kr"
      }
    },
    {
      "cell_type": "code",
      "execution_count": 29,
      "metadata": {
        "id": "BrhpM-HwhaOy"
      },
      "outputs": [],
      "source": [
        "url = \"https://raw.githubusercontent.com/JunpengWen/CSI4106/main/Maternal%20Health%20Risk%20Data%20Set.csv\" #provide the link to the raw version of dataset. You *need* to provide a link to *your own* github repository. DO NOT use the link that is provided as an example.\n",
        "\n",
        "dataset = pd.read_csv(url)"
      ]
    },
    {
      "cell_type": "markdown",
      "source": [
        "Let's see what are the columns of the dataset? :"
      ],
      "metadata": {
        "id": "4Drc71BY2a7w"
      }
    },
    {
      "cell_type": "code",
      "execution_count": 30,
      "metadata": {
        "colab": {
          "base_uri": "https://localhost:8080/"
        },
        "id": "pGxZXmhNhaOz",
        "outputId": "136fe9d5-b92e-43dc-a534-cedaebd9df5d"
      },
      "outputs": [
        {
          "output_type": "execute_result",
          "data": {
            "text/plain": [
              "Index(['Age', 'SystolicBP', 'DiastolicBP', 'BS', 'BodyTemp', 'HeartRate',\n",
              "       'RiskLevel'],\n",
              "      dtype='object')"
            ]
          },
          "metadata": {},
          "execution_count": 30
        }
      ],
      "source": [
        "dataset.columns"
      ]
    },
    {
      "cell_type": "markdown",
      "source": [
        "The dataset columns include 'Age', 'SystolicBP', 'DiastolicBP', 'BS', 'BodyTemp', 'HeartRate', and 'RiskLevel', which are health-related attributes."
      ],
      "metadata": {
        "id": "aNZaqcCT2w-T"
      }
    },
    {
      "cell_type": "markdown",
      "source": [
        "Now let's see the first 10 entries (rows):"
      ],
      "metadata": {
        "id": "jkokOHRj2kgZ"
      }
    },
    {
      "cell_type": "code",
      "execution_count": 31,
      "metadata": {
        "colab": {
          "base_uri": "https://localhost:8080/",
          "height": 363
        },
        "id": "0xqfPrBEhaOz",
        "outputId": "5e6bbbb4-22be-4fea-f612-169136c115fd"
      },
      "outputs": [
        {
          "output_type": "execute_result",
          "data": {
            "text/plain": [
              "   Age  SystolicBP  DiastolicBP     BS  BodyTemp  HeartRate  RiskLevel\n",
              "0   25         130           80  15.00      98.0         86  high risk\n",
              "1   35         140           90  13.00      98.0         70  high risk\n",
              "2   29          90           70   8.00     100.0         80  high risk\n",
              "3   30         140           85   7.00      98.0         70  high risk\n",
              "4   35         120           60   6.10      98.0         76   low risk\n",
              "5   23         140           80   7.01      98.0         70  high risk\n",
              "6   23         130           70   7.01      98.0         78   mid risk\n",
              "7   35          85           60  11.00     102.0         86  high risk\n",
              "8   32         120           90   6.90      98.0         70   mid risk\n",
              "9   42         130           80  18.00      98.0         70  high risk"
            ],
            "text/html": [
              "\n",
              "  <div id=\"df-057e56d9-abf4-4833-aea5-ec10af25b0a0\" class=\"colab-df-container\">\n",
              "    <div>\n",
              "<style scoped>\n",
              "    .dataframe tbody tr th:only-of-type {\n",
              "        vertical-align: middle;\n",
              "    }\n",
              "\n",
              "    .dataframe tbody tr th {\n",
              "        vertical-align: top;\n",
              "    }\n",
              "\n",
              "    .dataframe thead th {\n",
              "        text-align: right;\n",
              "    }\n",
              "</style>\n",
              "<table border=\"1\" class=\"dataframe\">\n",
              "  <thead>\n",
              "    <tr style=\"text-align: right;\">\n",
              "      <th></th>\n",
              "      <th>Age</th>\n",
              "      <th>SystolicBP</th>\n",
              "      <th>DiastolicBP</th>\n",
              "      <th>BS</th>\n",
              "      <th>BodyTemp</th>\n",
              "      <th>HeartRate</th>\n",
              "      <th>RiskLevel</th>\n",
              "    </tr>\n",
              "  </thead>\n",
              "  <tbody>\n",
              "    <tr>\n",
              "      <th>0</th>\n",
              "      <td>25</td>\n",
              "      <td>130</td>\n",
              "      <td>80</td>\n",
              "      <td>15.00</td>\n",
              "      <td>98.0</td>\n",
              "      <td>86</td>\n",
              "      <td>high risk</td>\n",
              "    </tr>\n",
              "    <tr>\n",
              "      <th>1</th>\n",
              "      <td>35</td>\n",
              "      <td>140</td>\n",
              "      <td>90</td>\n",
              "      <td>13.00</td>\n",
              "      <td>98.0</td>\n",
              "      <td>70</td>\n",
              "      <td>high risk</td>\n",
              "    </tr>\n",
              "    <tr>\n",
              "      <th>2</th>\n",
              "      <td>29</td>\n",
              "      <td>90</td>\n",
              "      <td>70</td>\n",
              "      <td>8.00</td>\n",
              "      <td>100.0</td>\n",
              "      <td>80</td>\n",
              "      <td>high risk</td>\n",
              "    </tr>\n",
              "    <tr>\n",
              "      <th>3</th>\n",
              "      <td>30</td>\n",
              "      <td>140</td>\n",
              "      <td>85</td>\n",
              "      <td>7.00</td>\n",
              "      <td>98.0</td>\n",
              "      <td>70</td>\n",
              "      <td>high risk</td>\n",
              "    </tr>\n",
              "    <tr>\n",
              "      <th>4</th>\n",
              "      <td>35</td>\n",
              "      <td>120</td>\n",
              "      <td>60</td>\n",
              "      <td>6.10</td>\n",
              "      <td>98.0</td>\n",
              "      <td>76</td>\n",
              "      <td>low risk</td>\n",
              "    </tr>\n",
              "    <tr>\n",
              "      <th>5</th>\n",
              "      <td>23</td>\n",
              "      <td>140</td>\n",
              "      <td>80</td>\n",
              "      <td>7.01</td>\n",
              "      <td>98.0</td>\n",
              "      <td>70</td>\n",
              "      <td>high risk</td>\n",
              "    </tr>\n",
              "    <tr>\n",
              "      <th>6</th>\n",
              "      <td>23</td>\n",
              "      <td>130</td>\n",
              "      <td>70</td>\n",
              "      <td>7.01</td>\n",
              "      <td>98.0</td>\n",
              "      <td>78</td>\n",
              "      <td>mid risk</td>\n",
              "    </tr>\n",
              "    <tr>\n",
              "      <th>7</th>\n",
              "      <td>35</td>\n",
              "      <td>85</td>\n",
              "      <td>60</td>\n",
              "      <td>11.00</td>\n",
              "      <td>102.0</td>\n",
              "      <td>86</td>\n",
              "      <td>high risk</td>\n",
              "    </tr>\n",
              "    <tr>\n",
              "      <th>8</th>\n",
              "      <td>32</td>\n",
              "      <td>120</td>\n",
              "      <td>90</td>\n",
              "      <td>6.90</td>\n",
              "      <td>98.0</td>\n",
              "      <td>70</td>\n",
              "      <td>mid risk</td>\n",
              "    </tr>\n",
              "    <tr>\n",
              "      <th>9</th>\n",
              "      <td>42</td>\n",
              "      <td>130</td>\n",
              "      <td>80</td>\n",
              "      <td>18.00</td>\n",
              "      <td>98.0</td>\n",
              "      <td>70</td>\n",
              "      <td>high risk</td>\n",
              "    </tr>\n",
              "  </tbody>\n",
              "</table>\n",
              "</div>\n",
              "    <div class=\"colab-df-buttons\">\n",
              "\n",
              "  <div class=\"colab-df-container\">\n",
              "    <button class=\"colab-df-convert\" onclick=\"convertToInteractive('df-057e56d9-abf4-4833-aea5-ec10af25b0a0')\"\n",
              "            title=\"Convert this dataframe to an interactive table.\"\n",
              "            style=\"display:none;\">\n",
              "\n",
              "  <svg xmlns=\"http://www.w3.org/2000/svg\" height=\"24px\" viewBox=\"0 -960 960 960\">\n",
              "    <path d=\"M120-120v-720h720v720H120Zm60-500h600v-160H180v160Zm220 220h160v-160H400v160Zm0 220h160v-160H400v160ZM180-400h160v-160H180v160Zm440 0h160v-160H620v160ZM180-180h160v-160H180v160Zm440 0h160v-160H620v160Z\"/>\n",
              "  </svg>\n",
              "    </button>\n",
              "\n",
              "  <style>\n",
              "    .colab-df-container {\n",
              "      display:flex;\n",
              "      gap: 12px;\n",
              "    }\n",
              "\n",
              "    .colab-df-convert {\n",
              "      background-color: #E8F0FE;\n",
              "      border: none;\n",
              "      border-radius: 50%;\n",
              "      cursor: pointer;\n",
              "      display: none;\n",
              "      fill: #1967D2;\n",
              "      height: 32px;\n",
              "      padding: 0 0 0 0;\n",
              "      width: 32px;\n",
              "    }\n",
              "\n",
              "    .colab-df-convert:hover {\n",
              "      background-color: #E2EBFA;\n",
              "      box-shadow: 0px 1px 2px rgba(60, 64, 67, 0.3), 0px 1px 3px 1px rgba(60, 64, 67, 0.15);\n",
              "      fill: #174EA6;\n",
              "    }\n",
              "\n",
              "    .colab-df-buttons div {\n",
              "      margin-bottom: 4px;\n",
              "    }\n",
              "\n",
              "    [theme=dark] .colab-df-convert {\n",
              "      background-color: #3B4455;\n",
              "      fill: #D2E3FC;\n",
              "    }\n",
              "\n",
              "    [theme=dark] .colab-df-convert:hover {\n",
              "      background-color: #434B5C;\n",
              "      box-shadow: 0px 1px 3px 1px rgba(0, 0, 0, 0.15);\n",
              "      filter: drop-shadow(0px 1px 2px rgba(0, 0, 0, 0.3));\n",
              "      fill: #FFFFFF;\n",
              "    }\n",
              "  </style>\n",
              "\n",
              "    <script>\n",
              "      const buttonEl =\n",
              "        document.querySelector('#df-057e56d9-abf4-4833-aea5-ec10af25b0a0 button.colab-df-convert');\n",
              "      buttonEl.style.display =\n",
              "        google.colab.kernel.accessAllowed ? 'block' : 'none';\n",
              "\n",
              "      async function convertToInteractive(key) {\n",
              "        const element = document.querySelector('#df-057e56d9-abf4-4833-aea5-ec10af25b0a0');\n",
              "        const dataTable =\n",
              "          await google.colab.kernel.invokeFunction('convertToInteractive',\n",
              "                                                    [key], {});\n",
              "        if (!dataTable) return;\n",
              "\n",
              "        const docLinkHtml = 'Like what you see? Visit the ' +\n",
              "          '<a target=\"_blank\" href=https://colab.research.google.com/notebooks/data_table.ipynb>data table notebook</a>'\n",
              "          + ' to learn more about interactive tables.';\n",
              "        element.innerHTML = '';\n",
              "        dataTable['output_type'] = 'display_data';\n",
              "        await google.colab.output.renderOutput(dataTable, element);\n",
              "        const docLink = document.createElement('div');\n",
              "        docLink.innerHTML = docLinkHtml;\n",
              "        element.appendChild(docLink);\n",
              "      }\n",
              "    </script>\n",
              "  </div>\n",
              "\n",
              "\n",
              "<div id=\"df-d19eec9a-a944-4a92-b4ca-9bde62108bef\">\n",
              "  <button class=\"colab-df-quickchart\" onclick=\"quickchart('df-d19eec9a-a944-4a92-b4ca-9bde62108bef')\"\n",
              "            title=\"Suggest charts.\"\n",
              "            style=\"display:none;\">\n",
              "\n",
              "<svg xmlns=\"http://www.w3.org/2000/svg\" height=\"24px\"viewBox=\"0 0 24 24\"\n",
              "     width=\"24px\">\n",
              "    <g>\n",
              "        <path d=\"M19 3H5c-1.1 0-2 .9-2 2v14c0 1.1.9 2 2 2h14c1.1 0 2-.9 2-2V5c0-1.1-.9-2-2-2zM9 17H7v-7h2v7zm4 0h-2V7h2v10zm4 0h-2v-4h2v4z\"/>\n",
              "    </g>\n",
              "</svg>\n",
              "  </button>\n",
              "\n",
              "<style>\n",
              "  .colab-df-quickchart {\n",
              "      --bg-color: #E8F0FE;\n",
              "      --fill-color: #1967D2;\n",
              "      --hover-bg-color: #E2EBFA;\n",
              "      --hover-fill-color: #174EA6;\n",
              "      --disabled-fill-color: #AAA;\n",
              "      --disabled-bg-color: #DDD;\n",
              "  }\n",
              "\n",
              "  [theme=dark] .colab-df-quickchart {\n",
              "      --bg-color: #3B4455;\n",
              "      --fill-color: #D2E3FC;\n",
              "      --hover-bg-color: #434B5C;\n",
              "      --hover-fill-color: #FFFFFF;\n",
              "      --disabled-bg-color: #3B4455;\n",
              "      --disabled-fill-color: #666;\n",
              "  }\n",
              "\n",
              "  .colab-df-quickchart {\n",
              "    background-color: var(--bg-color);\n",
              "    border: none;\n",
              "    border-radius: 50%;\n",
              "    cursor: pointer;\n",
              "    display: none;\n",
              "    fill: var(--fill-color);\n",
              "    height: 32px;\n",
              "    padding: 0;\n",
              "    width: 32px;\n",
              "  }\n",
              "\n",
              "  .colab-df-quickchart:hover {\n",
              "    background-color: var(--hover-bg-color);\n",
              "    box-shadow: 0 1px 2px rgba(60, 64, 67, 0.3), 0 1px 3px 1px rgba(60, 64, 67, 0.15);\n",
              "    fill: var(--button-hover-fill-color);\n",
              "  }\n",
              "\n",
              "  .colab-df-quickchart-complete:disabled,\n",
              "  .colab-df-quickchart-complete:disabled:hover {\n",
              "    background-color: var(--disabled-bg-color);\n",
              "    fill: var(--disabled-fill-color);\n",
              "    box-shadow: none;\n",
              "  }\n",
              "\n",
              "  .colab-df-spinner {\n",
              "    border: 2px solid var(--fill-color);\n",
              "    border-color: transparent;\n",
              "    border-bottom-color: var(--fill-color);\n",
              "    animation:\n",
              "      spin 1s steps(1) infinite;\n",
              "  }\n",
              "\n",
              "  @keyframes spin {\n",
              "    0% {\n",
              "      border-color: transparent;\n",
              "      border-bottom-color: var(--fill-color);\n",
              "      border-left-color: var(--fill-color);\n",
              "    }\n",
              "    20% {\n",
              "      border-color: transparent;\n",
              "      border-left-color: var(--fill-color);\n",
              "      border-top-color: var(--fill-color);\n",
              "    }\n",
              "    30% {\n",
              "      border-color: transparent;\n",
              "      border-left-color: var(--fill-color);\n",
              "      border-top-color: var(--fill-color);\n",
              "      border-right-color: var(--fill-color);\n",
              "    }\n",
              "    40% {\n",
              "      border-color: transparent;\n",
              "      border-right-color: var(--fill-color);\n",
              "      border-top-color: var(--fill-color);\n",
              "    }\n",
              "    60% {\n",
              "      border-color: transparent;\n",
              "      border-right-color: var(--fill-color);\n",
              "    }\n",
              "    80% {\n",
              "      border-color: transparent;\n",
              "      border-right-color: var(--fill-color);\n",
              "      border-bottom-color: var(--fill-color);\n",
              "    }\n",
              "    90% {\n",
              "      border-color: transparent;\n",
              "      border-bottom-color: var(--fill-color);\n",
              "    }\n",
              "  }\n",
              "</style>\n",
              "\n",
              "  <script>\n",
              "    async function quickchart(key) {\n",
              "      const quickchartButtonEl =\n",
              "        document.querySelector('#' + key + ' button');\n",
              "      quickchartButtonEl.disabled = true;  // To prevent multiple clicks.\n",
              "      quickchartButtonEl.classList.add('colab-df-spinner');\n",
              "      try {\n",
              "        const charts = await google.colab.kernel.invokeFunction(\n",
              "            'suggestCharts', [key], {});\n",
              "      } catch (error) {\n",
              "        console.error('Error during call to suggestCharts:', error);\n",
              "      }\n",
              "      quickchartButtonEl.classList.remove('colab-df-spinner');\n",
              "      quickchartButtonEl.classList.add('colab-df-quickchart-complete');\n",
              "    }\n",
              "    (() => {\n",
              "      let quickchartButtonEl =\n",
              "        document.querySelector('#df-d19eec9a-a944-4a92-b4ca-9bde62108bef button');\n",
              "      quickchartButtonEl.style.display =\n",
              "        google.colab.kernel.accessAllowed ? 'block' : 'none';\n",
              "    })();\n",
              "  </script>\n",
              "</div>\n",
              "    </div>\n",
              "  </div>\n"
            ]
          },
          "metadata": {},
          "execution_count": 31
        }
      ],
      "source": [
        "dataset.head(10)"
      ]
    },
    {
      "cell_type": "markdown",
      "source": [
        "**Preprocessing Step**\n",
        "\n",
        "In most data science projects, preprocessing is a foundational step that involves preparing and cleaning the raw data before it is used for analysis or modeling. This ensures that the data is of good quality and that any inconsistencies or inaccuracies are addressed.\n",
        "\n",
        "\n",
        "The first part of the preprocessing is to ascertain if the dataset has any missing values. Handling missing values is crucial because they can adversely affect the results of data analysis or modeling.\n",
        "\n"
      ],
      "metadata": {
        "id": "1dq9VpZh2r2A"
      }
    },
    {
      "cell_type": "code",
      "execution_count": 32,
      "metadata": {
        "id": "BmUtgrBchaOz",
        "colab": {
          "base_uri": "https://localhost:8080/"
        },
        "outputId": "2d995b02-43b6-4f19-b5ca-c51aa683db09"
      },
      "outputs": [
        {
          "output_type": "stream",
          "name": "stdout",
          "text": [
            "Missing values in each column:\n",
            " Age            0\n",
            "SystolicBP     0\n",
            "DiastolicBP    0\n",
            "BS             0\n",
            "BodyTemp       0\n",
            "HeartRate      0\n",
            "RiskLevel      0\n",
            "dtype: int64\n"
          ]
        }
      ],
      "source": [
        "missing_values = dataset.isnull().sum()\n",
        "print(\"Missing values in each column:\\n\", missing_values)"
      ]
    },
    {
      "cell_type": "markdown",
      "source": [
        "In the dataset, a column named \"RiskLevel\" categorizes maternal health risks into three categories: 'low risk', 'mid risk', and 'high risk'. These descriptive labels are useful, but many machine-learning algorithms require numeric input. As a result, categorical variables are commonly converted to numeric variables."
      ],
      "metadata": {
        "id": "4bklXqqWux6k"
      }
    },
    {
      "cell_type": "code",
      "source": [
        "# Define a mapping dictionary\n",
        "risk_level_mapping = {'low risk': 0 , 'mid risk': 1 , 'high risk': 2 }\n",
        "\n",
        "# Map the numeric values to their corresponding risk levels\n",
        "dataset['RiskLevel'] = dataset['RiskLevel'].map(risk_level_mapping)\n",
        "\n",
        "# Show the updated dataset\n",
        "print(dataset.head())\n"
      ],
      "metadata": {
        "colab": {
          "base_uri": "https://localhost:8080/"
        },
        "id": "F_JcuWQau1LM",
        "outputId": "3d328778-ec50-47c0-be9d-10acd8a88ee2"
      },
      "execution_count": 33,
      "outputs": [
        {
          "output_type": "stream",
          "name": "stdout",
          "text": [
            "   Age  SystolicBP  DiastolicBP    BS  BodyTemp  HeartRate  RiskLevel\n",
            "0   25         130           80  15.0      98.0         86          2\n",
            "1   35         140           90  13.0      98.0         70          2\n",
            "2   29          90           70   8.0     100.0         80          2\n",
            "3   30         140           85   7.0      98.0         70          2\n",
            "4   35         120           60   6.1      98.0         76          0\n"
          ]
        }
      ]
    },
    {
      "cell_type": "code",
      "source": [
        "# Create a bar plot of 'RiskLevel' value counts\n",
        "sns.countplot(x='RiskLevel', data=dataset)\n",
        "\n",
        "# Set the title and labels of the plot\n",
        "plt.title('Distribution of Risk Levels')\n",
        "plt.ylabel('Count')\n",
        "plt.xticks(ticks=[0,1,2], labels=['Low Risk', 'Mid Risk', 'High Risk'])\n",
        "\n",
        "# Display the plot\n",
        "plt.show()"
      ],
      "metadata": {
        "colab": {
          "base_uri": "https://localhost:8080/",
          "height": 472
        },
        "id": "WaX91KHbu4MK",
        "outputId": "6d4c82f3-83e5-4b7c-85d5-441e52c831f7"
      },
      "execution_count": 34,
      "outputs": [
        {
          "output_type": "display_data",
          "data": {
            "text/plain": [
              "<Figure size 640x480 with 1 Axes>"
            ],
            "image/png": "[encoded data removed]"
          },
          "metadata": {}
        }
      ]
    },
    {
      "cell_type": "markdown",
      "source": [
        "Analyzing complex data requires first understanding the basic landscape of the data. By determining the minimum, maximum, and range of dataset values, we can extract fundamental data insights that will assist in future preprocessing and modeling."
      ],
      "metadata": {
        "id": "CP1nkMb27A4n"
      }
    },
    {
      "cell_type": "code",
      "execution_count": 35,
      "metadata": {
        "id": "LT_iYgxhhaO0",
        "colab": {
          "base_uri": "https://localhost:8080/"
        },
        "outputId": "b2f65a83-e36b-4d9f-961a-17783bd3843c"
      },
      "outputs": [
        {
          "output_type": "stream",
          "name": "stdout",
          "text": [
            "             Min Value  Max Value\n",
            "Age               10.0       70.0\n",
            "SystolicBP        70.0      160.0\n",
            "DiastolicBP       49.0      100.0\n",
            "BS                 6.0       19.0\n",
            "BodyTemp          98.0      103.0\n",
            "HeartRate          7.0       90.0\n",
            "RiskLevel          0.0        2.0\n",
            "Age            60.0\n",
            "SystolicBP     90.0\n",
            "DiastolicBP    51.0\n",
            "BS             13.0\n",
            "BodyTemp        5.0\n",
            "HeartRate      83.0\n",
            "RiskLevel       2.0\n",
            "dtype: float64\n"
          ]
        }
      ],
      "source": [
        "# Get the minimum value and maximum value for each column in the dataset\n",
        "min_values = dataset.min()\n",
        "max_values = dataset.max()\n",
        "\n",
        "# Create a DataFrame to show the minimum and maximum values side-by-side for each feature\n",
        "domains = pd.DataFrame({'Min Value': min_values, 'Max Value': max_values})\n",
        "print(domains)\n",
        "\n",
        "# Compute the range (difference between max and min) for each column\n",
        "ranges = dataset.max() - dataset.min()\n",
        "print(ranges)"
      ]
    },
    {
      "cell_type": "markdown",
      "source": [
        "The next step is to split a dataset into separate training and testing subsets. In data analysis and machine learning, this is a common practice to ensure the model does not only fit the data it has seen but also performs well on unseen data. In this way, the generalization capability of the model can be assessed."
      ],
      "metadata": {
        "id": "TaditHIqu8Hf"
      }
    },
    {
      "cell_type": "code",
      "source": [
        "# Splitting the dataset into training and testing sets\n",
        "X = dataset.drop('RiskLevel', axis=1)  # Features (excluding the 'RiskLevel' column)\n",
        "y = dataset['RiskLevel']               # Target variable\n",
        "\n",
        "X_train, X_test, y_train, y_test = train_test_split(X, y, test_size=0.2, random_state=42)\n",
        "\n",
        "# Printing the shape of training and testing sets\n",
        "print(\"Shape of X_train:\", X_train.shape)\n",
        "print(\"Shape of X_test:\", X_test.shape)\n",
        "print(\"Shape of y_train:\", y_train.shape)\n",
        "print(\"Shape of y_test:\", y_test.shape)"
      ],
      "metadata": {
        "colab": {
          "base_uri": "https://localhost:8080/"
        },
        "id": "KUNsqmurvAR4",
        "outputId": "776f3574-e5c1-4ee1-eb3e-3bc6cea0911b"
      },
      "execution_count": 36,
      "outputs": [
        {
          "output_type": "stream",
          "name": "stdout",
          "text": [
            "Shape of X_train: (811, 6)\n",
            "Shape of X_test: (203, 6)\n",
            "Shape of y_train: (811,)\n",
            "Shape of y_test: (203,)\n"
          ]
        }
      ]
    },
    {
      "cell_type": "markdown",
      "source": [
        "Normalizing attributes ensures consistent scales, enhancing data analysis and machine learning.Using Min-Max scaling, dataset attributes are transformed to a [0, 1] range.  The data is automatically normalized and returned as a DataFrame using MinMaxScaler from sklearn.preprocessing."
      ],
      "metadata": {
        "id": "fFyaIxDNvBBZ"
      }
    },
    {
      "cell_type": "code",
      "source": [
        "# Initialize a scaler\n",
        "scaler = MinMaxScaler()\n",
        "\n",
        "# Fit and transform the dataset to normalize it\n",
        "normalized_dataset = scaler.fit_transform(dataset)\n",
        "\n",
        "# Convert the normalized array back to a DataFrame\n",
        "normalized_df = pd.DataFrame(normalized_dataset, columns=dataset.columns)\n",
        "\n",
        "print(normalized_df.head())"
      ],
      "metadata": {
        "colab": {
          "base_uri": "https://localhost:8080/"
        },
        "id": "KBj4HulSvCqr",
        "outputId": "42a206a4-2bb5-4cda-d963-e4ed3242eef9"
      },
      "execution_count": 37,
      "outputs": [
        {
          "output_type": "stream",
          "name": "stdout",
          "text": [
            "        Age  SystolicBP  DiastolicBP        BS  BodyTemp  HeartRate  RiskLevel\n",
            "0  0.250000    0.666667     0.607843  0.692308       0.0   0.951807        1.0\n",
            "1  0.416667    0.777778     0.803922  0.538462       0.0   0.759036        1.0\n",
            "2  0.316667    0.222222     0.411765  0.153846       0.4   0.879518        1.0\n",
            "3  0.333333    0.777778     0.705882  0.076923       0.0   0.759036        1.0\n",
            "4  0.416667    0.555556     0.215686  0.007692       0.0   0.831325        0.0\n"
          ]
        }
      ]
    },
    {
      "cell_type": "markdown",
      "source": [
        "In the preprocessing phase, we have carefully addressed the critical steps needed to prepare our data for advanced analytics and modelling. From handling missing values to converting categorical labels to numerical ones, to visually displaying the distribution, we have put a solid foundation in place. We ensure that our dataset is not only kept intact but also primed for further analysis using this thorough approach.\n"
      ],
      "metadata": {
        "id": "61go4NeA7gZU"
      }
    },
    {
      "cell_type": "markdown",
      "source": [
        "--------------------------------------------------------------------------\n"
      ],
      "metadata": {
        "id": "AgmNpoSdus9U"
      }
    },
    {
      "cell_type": "markdown",
      "source": [
        "**4. Training a Gaussian Naive Bayes Classifier**\n",
        "\n",
        "The Gaussian Naive Bayes classifier (GNB) is a variant of the Naive Bayes classifier designed for continuous data. The data from each label is assumed to be drawn from a simple Gaussian distribution.\n",
        "\n",
        "Using the training datasets (X_train and Y_train), train the classifier. Once trained, use the model to predict the test data (X_test). Evaluate the classifier's performance using various metrics. Accuracy measures the proportion of correctly predicted classifications. Each class's classification report provides metrics such as precision, recall, and f1-score. In the confusion matrix, actual classifications are compared with predicted classifications, showing the performance of the classifier."
      ],
      "metadata": {
        "id": "NdO_H-4t-6mg"
      }
    },
    {
      "cell_type": "code",
      "source": [
        "# Initialize Gaussian Naive Bayes\n",
        "gnb = GaussianNB()\n",
        "\n",
        "# Fit the model\n",
        "gnb.fit(X_train, y_train)\n",
        "\n",
        "# Predict using the test set\n",
        "y_pred = gnb.predict(X_test)\n",
        "\n",
        "# Evaluate the model\n",
        "accuracy = accuracy_score(y_test, y_pred)\n",
        "print(f\"Accuracy: {accuracy * 100:.2f}%\")\n",
        "\n",
        "# Print classification report\n",
        "print(\"\\nClassification Report:\\n\", classification_report(y_test, y_pred))\n",
        "\n",
        "# Display confusion matrix\n",
        "conf_matrix = confusion_matrix(y_test, y_pred)\n",
        "sns.heatmap(conf_matrix, annot=True, fmt='g')\n",
        "plt.xlabel('Predicted labels')\n",
        "plt.ylabel('True labels')\n",
        "plt.title('Confusion Matrix')\n",
        "plt.show()"
      ],
      "metadata": {
        "colab": {
          "base_uri": "https://localhost:8080/",
          "height": 709
        },
        "id": "RxzqEt3056YU",
        "outputId": "2830d63b-f2f2-4e00-f800-09b819e80621"
      },
      "execution_count": 38,
      "outputs": [
        {
          "output_type": "stream",
          "name": "stdout",
          "text": [
            "Accuracy: 57.64%\n",
            "\n",
            "Classification Report:\n",
            "               precision    recall  f1-score   support\n",
            "\n",
            "           0       0.52      0.91      0.66        80\n",
            "           1       0.56      0.18      0.28        76\n",
            "           2       0.79      0.64      0.71        47\n",
            "\n",
            "    accuracy                           0.58       203\n",
            "   macro avg       0.62      0.58      0.55       203\n",
            "weighted avg       0.60      0.58      0.53       203\n",
            "\n"
          ]
        },
        {
          "output_type": "display_data",
          "data": {
            "text/plain": [
              "<Figure size 640x480 with 2 Axes>"
            ],
            "image/png": "[encoded data removed]"
          },
          "metadata": {}
        }
      ]
    },
    {
      "cell_type": "markdown",
      "source": [
        "--------------------------------------------------------------------------\n"
      ],
      "metadata": {
        "id": "4Ypp7TpkAIUe"
      }
    },
    {
      "cell_type": "markdown",
      "source": [
        "**5. Train/test/evaluate 2 models in cross-validation**\n",
        "\n",
        "The cross-validation method is used to estimate a model's performance. Rather than dividing the dataset into training and test parts, it is divided into 'k' number of folds subsets. 'K-1' folds are used to train the model and the remaining folds are used to test it. It is repeated 'k' times with each fold being used exactly once as a test set. In order to produce a single value, the overall performance metric is averaged over 'k' test sets. Especially on small datasets, cross-validation provides a better estimate of model performance since each observation is used both for training and testing."
      ],
      "metadata": {
        "id": "aI_vn5fj5-Qi"
      }
    },
    {
      "cell_type": "markdown",
      "source": [
        "Firstly, ensure that we have our dataset loaded and separated into features (X) and target variable (y).\n"
      ],
      "metadata": {
        "id": "gQit6vUP6Amx"
      }
    },
    {
      "cell_type": "code",
      "source": [
        "data = load_iris()\n",
        "X, y = data.data, data.target"
      ],
      "metadata": {
        "id": "xhkGSjoe6DIm"
      },
      "execution_count": 39,
      "outputs": []
    },
    {
      "cell_type": "markdown",
      "source": [
        "Here, the Gaussian Naive Bayes classifier is being set up and initialized. This classifier is particularly suited for datasets where the features are normally distributed. The core of the code involves using the cross_val_predict function:"
      ],
      "metadata": {
        "id": "ZJboNh796FWN"
      }
    },
    {
      "cell_type": "code",
      "source": [
        "# Initialize Gaussian Naive Bayes\n",
        "gnb = GaussianNB()\n",
        "\n",
        "# Use cross_val_predict to get the predicted values for each fold\n",
        "y_pred = cross_val_predict(gnb, X, y, cv=4)"
      ],
      "metadata": {
        "id": "5YRhQRYZ6FjU"
      },
      "execution_count": 40,
      "outputs": []
    },
    {
      "cell_type": "markdown",
      "source": [
        "In this section, we calculate precision and recall to evaluate the model's performance. Precision and recall are calculated using the precision_score and recall_score functions from Scikit-learn. A micro average and a macro average are computed:"
      ],
      "metadata": {
        "id": "SZOBxiEh6KwL"
      }
    },
    {
      "cell_type": "code",
      "source": [
        "# Calculate precision and recall for micro average\n",
        "precision_micro = precision_score(y, y_pred, average='micro')\n",
        "recall_micro = recall_score(y, y_pred, average='micro')\n",
        "\n",
        "# Calculate precision and recall for macro average\n",
        "precision_macro = precision_score(y, y_pred, average='macro')\n",
        "recall_macro = recall_score(y, y_pred, average='macro')\n",
        "\n",
        "print(f\"Micro-average Precision: {precision_micro * 100:.2f}%\")\n",
        "print(f\"Micro-average Recall: {recall_micro * 100:.2f}%\")\n",
        "print(f\"Macro-average Precision: {precision_macro * 100:.2f}%\")\n",
        "print(f\"Macro-average Recall: {recall_macro * 100:.2f}%\")\n"
      ],
      "metadata": {
        "colab": {
          "base_uri": "https://localhost:8080/"
        },
        "id": "AanIcBrf6Ns6",
        "outputId": "a1136fbd-50ac-431e-a5ea-84f518e1f6d7"
      },
      "execution_count": 41,
      "outputs": [
        {
          "output_type": "stream",
          "name": "stdout",
          "text": [
            "Micro-average Precision: 95.33%\n",
            "Micro-average Recall: 95.33%\n",
            "Macro-average Precision: 95.34%\n",
            "Macro-average Recall: 95.33%\n"
          ]
        }
      ]
    },
    {
      "cell_type": "markdown",
      "source": [
        "Cross-validation offers a more robust way to evaluate model performance. Both micro and macro precision and recall scores were above 95% for the Gaussian Naive Bayes classifier on the Iris dataset. Moreover, as can be seen from the class distribution, the Iris dataset is balanced with equal numbers of samples from each class. Due to this balance, the micro-average and macro-average values will be close, as observed in the results. This ensures that the model is not biased towards any one class due to the balance in the dataset."
      ],
      "metadata": {
        "id": "MuMVrd_p6Onx"
      }
    },
    {
      "cell_type": "markdown",
      "source": [
        "**9. Conclusion**\n",
        "\n",
        "Comment on the empirical study, its results, and give ideas for future work."
      ],
      "metadata": {
        "id": "8Ikmq-si_23Y"
      }
    },
    {
      "cell_type": "markdown",
      "source": [
        "--------------------------------------------------------------------------\n"
      ],
      "metadata": {
        "id": "41s8gvCNABDy"
      }
    },
    {
      "cell_type": "markdown",
      "source": [
        "**Hint:** To share a link to your colab notebook, click on \"share\" on the top right. Then, under *General access* , change *Restricted* to \"Anyone with the link\"."
      ],
      "metadata": {
        "id": "zF9cuDJqF75q"
      }
    },
    {
      "cell_type": "markdown",
      "source": [
        "**10 References**\n",
        "\n",
        "https://archive.ics.uci.edu/dataset/863/maternal+health+risk\n",
        "\n",
        "https://www.tutorialspoint.com/scikit_learn/index.htm\n",
        "\n",
        "https://www.youtube.com/watch?v=0Lt9w-BxKFQ\n",
        "\n",
        "https://www.datacamp.com/tutorial/understanding-logistic-regression-python\n",
        "\n",
        "https://www.datacamp.com/tutorial/naive-bayes-scikit-learn\n"
      ],
      "metadata": {
        "id": "PtbOgI1q_9a0"
      }
    }
  ],
  "metadata": {
    "kernelspec": {
      "display_name": "Python 3",
      "language": "python",
      "name": "python3"
    },
    "language_info": {
      "codemirror_mode": {
        "name": "ipython",
        "version": 3
      },
      "file_extension": ".py",
      "mimetype": "text/x-python",
      "name": "python",
      "nbconvert_exporter": "python",
      "pygments_lexer": "ipython3",
      "version": "3.9.10"
    },
    "orig_nbformat": 4,
    "colab": {
      "provenance": [],
      "include_colab_link": true
    }
  },
  "nbformat": 4,
  "nbformat_minor": 0
}