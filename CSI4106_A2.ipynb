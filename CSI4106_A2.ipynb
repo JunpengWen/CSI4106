{
  "cells": [
    {
      "cell_type": "markdown",
      "metadata": {
        "id": "view-in-github",
        "colab_type": "text"
      },
      "source": [
        "<a href=\"https://colab.research.google.com/github/JunpengWen/CSI4106/blob/main/CSI4106_A2.ipynb\" target=\"_parent\"><img src=\"https://colab.research.google.com/assets/colab-badge.svg\" alt=\"Open In Colab\"/></a>"
      ]
    },
    {
      "cell_type": "markdown",
      "source": [
        "**ASSIGNMENT 2 - EMPIRICAL STUDY OF Naïve Bayes vs Logistic Regression**"
      ],
      "metadata": {
        "id": "SPeulvp-meob"
      }
    },
    {
      "cell_type": "markdown",
      "source": [
        "**1. Group Description**\n",
        "\n",
        "Group Number: 53 \\\\\n",
        "Member1 Names: Junpeng Wen \\\\\n",
        "Member1 Student Numbers: 300249282 \\\\\n",
        "Member2 Names: Yongquan Long \\\\\n",
        "Member2 Student Numbers: 300249549 \\\\"
      ],
      "metadata": {
        "id": "f2Eeke4Z_EkW"
      }
    },
    {
      "cell_type": "markdown",
      "source": [
        "**2. Task Description and introduction to two models**\n",
        "\n",
        "The goal of the task is to predict the health risk level of pregnant women into three categories: low, mid, and high risk. This could be used as a preliminary screening tool to identify women who might need more intensive medical attention during their pregnancy. The purpose is to enhance maternal healthcare services and improve the outcomes for both the mother and the baby.\n",
        "\n",
        "**Naïve Bayes vs Logistic Regression**\n",
        "\n",
        "Naïve Bayes and Logistic Regression are two predominant algorithms employed in the realm of machine learning for classification tasks, each embodying unique attributes and functionalities.\n",
        "\n",
        "Naïve Bayes, a probabilistic algorithm, operates on the principle of feature independence given the class label. This method is particularly proficient in handling multi-class classification tasks and is advantageous in scenarios where the availability of training data is limited. For Logistic Regression, which falls under the category of discriminative models, is utilized to ascertain the probability of class membership, thereby delineating a linear decision boundary. This algorithm is commendably resilient in the presence of noisy data. Nonetheless, it is susceptible to overfitting, particularly when applied to small datasets that are characterized by a plethora of features.\n",
        "\n",
        "The decision to opt for either Naïve Bayes or Logistic Regression is contingent upon various factors including the nature of the task at hand, the characteristics inherent to the dataset, as well as the significance accorded to model interpretability and computational efficiency in the specific context."
      ],
      "metadata": {
        "id": "Yq6OGiMX_da0"
      }
    },
    {
      "cell_type": "markdown",
      "source": [
        "**3. Dataset**\n",
        "\n",
        "The dataset from the UC Irvine Machine Learning Repository(https://archive.ics.uci.edu/dataset/863/maternal+health+risk), specifically focusing on maternal health risk, presents a valuable opportunity for researchers and practitioners to engage in comprehensive analysis and experimentation with various machine learning algorithms. This dataset encompasses a range of variables that are crucial in determining the health risks associated with pregnancy, offering insights into important patterns and correlations. Utilizing this dataset enables the development and validation of predictive models, such as Naïve Bayes and Logistic Regression, to enhance the understanding and management of maternal health risks. The accessibility and richness of this dataset make it a significant resource for advancing knowledge in maternal healthcare, and promoting the adoption of data-driven approaches in medical settings."
      ],
      "metadata": {
        "id": "C8vwHE0G_iOG"
      }
    },
    {
      "cell_type": "markdown",
      "source": [
        "**Import important libraries**"
      ],
      "metadata": {
        "id": "OZTWy1qN2BzY"
      }
    },
    {
      "cell_type": "code",
      "execution_count": 1,
      "metadata": {
        "id": "GmP1buROhaOx"
      },
      "outputs": [],
      "source": [
        "import pandas as pd\n",
        "import itertools\n",
        "import numpy as np\n",
        "import seaborn as sns\n",
        "import matplotlib.pyplot as plt\n",
        "from sklearn.model_selection import train_test_split\n",
        "from sklearn.preprocessing import MinMaxScaler\n",
        "from sklearn.naive_bayes import GaussianNB\n",
        "from sklearn.metrics import accuracy_score, classification_report, confusion_matrix\n",
        "from sklearn.ensemble import RandomForestClassifier\n",
        "from sklearn.datasets import load_iris\n",
        "from sklearn.model_selection import cross_val_predict\n",
        "from sklearn.metrics import precision_score, recall_score\n",
        "from sklearn.linear_model import LogisticRegression\n",
        "from sklearn.metrics import accuracy_score"
      ]
    },
    {
      "cell_type": "markdown",
      "source": [
        "**Read Dataset**\n",
        "\n",
        "As outlined in the project description, it should be possible for the correctors to execute your notebook without requiring any downloads.\n",
        "\n",
        "To facilitate access to the dataset without the need for downloads, you can upload it to a public GitHub repository and provide a link to the raw version of the dataset.\n",
        "GitHub repository：\n",
        "\n",
        "https://github.com/JunpengWen/CSI4106\n",
        "\n",
        "The link to the raw version is as follows:\n",
        "\n",
        "https://raw.githubusercontent.com/JunpengWen/CSI4106/main/Maternal%20Health%20Risk%20Data%20Set.csv\n",
        "\n",
        "\n",
        "Now provide the link to YOUR dataset and read the dataset using pandas:"
      ],
      "metadata": {
        "id": "wNJyoeCz00Kr"
      }
    },
    {
      "cell_type": "code",
      "execution_count": 2,
      "metadata": {
        "id": "BrhpM-HwhaOy"
      },
      "outputs": [],
      "source": [
        "url = \"https://raw.githubusercontent.com/JunpengWen/CSI4106/main/Maternal%20Health%20Risk%20Data%20Set.csv\" #provide the link to the raw version of dataset. You *need* to provide a link to *your own* github repository. DO NOT use the link that is provided as an example.\n",
        "\n",
        "dataset = pd.read_csv(url)"
      ]
    },
    {
      "cell_type": "markdown",
      "source": [
        "Let's see what are the columns of the dataset? :"
      ],
      "metadata": {
        "id": "4Drc71BY2a7w"
      }
    },
    {
      "cell_type": "code",
      "execution_count": 3,
      "metadata": {
        "colab": {
          "base_uri": "https://localhost:8080/"
        },
        "id": "pGxZXmhNhaOz",
        "outputId": "965e59df-604b-47d5-ab30-69691f9616ac"
      },
      "outputs": [
        {
          "output_type": "execute_result",
          "data": {
            "text/plain": [
              "Index(['Age', 'SystolicBP', 'DiastolicBP', 'BS', 'BodyTemp', 'HeartRate',\n",
              "       'RiskLevel'],\n",
              "      dtype='object')"
            ]
          },
          "metadata": {},
          "execution_count": 3
        }
      ],
      "source": [
        "dataset.columns"
      ]
    },
    {
      "cell_type": "markdown",
      "source": [
        "The dataset columns include 'Age', 'SystolicBP', 'DiastolicBP', 'BS', 'BodyTemp', 'HeartRate', and 'RiskLevel', which are health-related attributes."
      ],
      "metadata": {
        "id": "aNZaqcCT2w-T"
      }
    },
    {
      "cell_type": "markdown",
      "source": [
        "Now let's see the first 10 entries (rows):"
      ],
      "metadata": {
        "id": "jkokOHRj2kgZ"
      }
    },
    {
      "cell_type": "code",
      "execution_count": 4,
      "metadata": {
        "colab": {
          "base_uri": "https://localhost:8080/",
          "height": 363
        },
        "id": "0xqfPrBEhaOz",
        "outputId": "b9b5f190-f5d0-44b0-b5dd-a3d714b1f365"
      },
      "outputs": [
        {
          "output_type": "execute_result",
          "data": {
            "text/plain": [
              "   Age  SystolicBP  DiastolicBP     BS  BodyTemp  HeartRate  RiskLevel\n",
              "0   25         130           80  15.00      98.0         86  high risk\n",
              "1   35         140           90  13.00      98.0         70  high risk\n",
              "2   29          90           70   8.00     100.0         80  high risk\n",
              "3   30         140           85   7.00      98.0         70  high risk\n",
              "4   35         120           60   6.10      98.0         76   low risk\n",
              "5   23         140           80   7.01      98.0         70  high risk\n",
              "6   23         130           70   7.01      98.0         78   mid risk\n",
              "7   35          85           60  11.00     102.0         86  high risk\n",
              "8   32         120           90   6.90      98.0         70   mid risk\n",
              "9   42         130           80  18.00      98.0         70  high risk"
            ],
            "text/html": [
              "\n",
              "  <div id=\"df-da431302-383f-4f19-bbf9-34988569ff05\" class=\"colab-df-container\">\n",
              "    <div>\n",
              "<style scoped>\n",
              "    .dataframe tbody tr th:only-of-type {\n",
              "        vertical-align: middle;\n",
              "    }\n",
              "\n",
              "    .dataframe tbody tr th {\n",
              "        vertical-align: top;\n",
              "    }\n",
              "\n",
              "    .dataframe thead th {\n",
              "        text-align: right;\n",
              "    }\n",
              "</style>\n",
              "<table border=\"1\" class=\"dataframe\">\n",
              "  <thead>\n",
              "    <tr style=\"text-align: right;\">\n",
              "      <th></th>\n",
              "      <th>Age</th>\n",
              "      <th>SystolicBP</th>\n",
              "      <th>DiastolicBP</th>\n",
              "      <th>BS</th>\n",
              "      <th>BodyTemp</th>\n",
              "      <th>HeartRate</th>\n",
              "      <th>RiskLevel</th>\n",
              "    </tr>\n",
              "  </thead>\n",
              "  <tbody>\n",
              "    <tr>\n",
              "      <th>0</th>\n",
              "      <td>25</td>\n",
              "      <td>130</td>\n",
              "      <td>80</td>\n",
              "      <td>15.00</td>\n",
              "      <td>98.0</td>\n",
              "      <td>86</td>\n",
              "      <td>high risk</td>\n",
              "    </tr>\n",
              "    <tr>\n",
              "      <th>1</th>\n",
              "      <td>35</td>\n",
              "      <td>140</td>\n",
              "      <td>90</td>\n",
              "      <td>13.00</td>\n",
              "      <td>98.0</td>\n",
              "      <td>70</td>\n",
              "      <td>high risk</td>\n",
              "    </tr>\n",
              "    <tr>\n",
              "      <th>2</th>\n",
              "      <td>29</td>\n",
              "      <td>90</td>\n",
              "      <td>70</td>\n",
              "      <td>8.00</td>\n",
              "      <td>100.0</td>\n",
              "      <td>80</td>\n",
              "      <td>high risk</td>\n",
              "    </tr>\n",
              "    <tr>\n",
              "      <th>3</th>\n",
              "      <td>30</td>\n",
              "      <td>140</td>\n",
              "      <td>85</td>\n",
              "      <td>7.00</td>\n",
              "      <td>98.0</td>\n",
              "      <td>70</td>\n",
              "      <td>high risk</td>\n",
              "    </tr>\n",
              "    <tr>\n",
              "      <th>4</th>\n",
              "      <td>35</td>\n",
              "      <td>120</td>\n",
              "      <td>60</td>\n",
              "      <td>6.10</td>\n",
              "      <td>98.0</td>\n",
              "      <td>76</td>\n",
              "      <td>low risk</td>\n",
              "    </tr>\n",
              "    <tr>\n",
              "      <th>5</th>\n",
              "      <td>23</td>\n",
              "      <td>140</td>\n",
              "      <td>80</td>\n",
              "      <td>7.01</td>\n",
              "      <td>98.0</td>\n",
              "      <td>70</td>\n",
              "      <td>high risk</td>\n",
              "    </tr>\n",
              "    <tr>\n",
              "      <th>6</th>\n",
              "      <td>23</td>\n",
              "      <td>130</td>\n",
              "      <td>70</td>\n",
              "      <td>7.01</td>\n",
              "      <td>98.0</td>\n",
              "      <td>78</td>\n",
              "      <td>mid risk</td>\n",
              "    </tr>\n",
              "    <tr>\n",
              "      <th>7</th>\n",
              "      <td>35</td>\n",
              "      <td>85</td>\n",
              "      <td>60</td>\n",
              "      <td>11.00</td>\n",
              "      <td>102.0</td>\n",
              "      <td>86</td>\n",
              "      <td>high risk</td>\n",
              "    </tr>\n",
              "    <tr>\n",
              "      <th>8</th>\n",
              "      <td>32</td>\n",
              "      <td>120</td>\n",
              "      <td>90</td>\n",
              "      <td>6.90</td>\n",
              "      <td>98.0</td>\n",
              "      <td>70</td>\n",
              "      <td>mid risk</td>\n",
              "    </tr>\n",
              "    <tr>\n",
              "      <th>9</th>\n",
              "      <td>42</td>\n",
              "      <td>130</td>\n",
              "      <td>80</td>\n",
              "      <td>18.00</td>\n",
              "      <td>98.0</td>\n",
              "      <td>70</td>\n",
              "      <td>high risk</td>\n",
              "    </tr>\n",
              "  </tbody>\n",
              "</table>\n",
              "</div>\n",
              "    <div class=\"colab-df-buttons\">\n",
              "\n",
              "  <div class=\"colab-df-container\">\n",
              "    <button class=\"colab-df-convert\" onclick=\"convertToInteractive('df-da431302-383f-4f19-bbf9-34988569ff05')\"\n",
              "            title=\"Convert this dataframe to an interactive table.\"\n",
              "            style=\"display:none;\">\n",
              "\n",
              "  <svg xmlns=\"http://www.w3.org/2000/svg\" height=\"24px\" viewBox=\"0 -960 960 960\">\n",
              "    <path d=\"M120-120v-720h720v720H120Zm60-500h600v-160H180v160Zm220 220h160v-160H400v160Zm0 220h160v-160H400v160ZM180-400h160v-160H180v160Zm440 0h160v-160H620v160ZM180-180h160v-160H180v160Zm440 0h160v-160H620v160Z\"/>\n",
              "  </svg>\n",
              "    </button>\n",
              "\n",
              "  <style>\n",
              "    .colab-df-container {\n",
              "      display:flex;\n",
              "      gap: 12px;\n",
              "    }\n",
              "\n",
              "    .colab-df-convert {\n",
              "      background-color: #E8F0FE;\n",
              "      border: none;\n",
              "      border-radius: 50%;\n",
              "      cursor: pointer;\n",
              "      display: none;\n",
              "      fill: #1967D2;\n",
              "      height: 32px;\n",
              "      padding: 0 0 0 0;\n",
              "      width: 32px;\n",
              "    }\n",
              "\n",
              "    .colab-df-convert:hover {\n",
              "      background-color: #E2EBFA;\n",
              "      box-shadow: 0px 1px 2px rgba(60, 64, 67, 0.3), 0px 1px 3px 1px rgba(60, 64, 67, 0.15);\n",
              "      fill: #174EA6;\n",
              "    }\n",
              "\n",
              "    .colab-df-buttons div {\n",
              "      margin-bottom: 4px;\n",
              "    }\n",
              "\n",
              "    [theme=dark] .colab-df-convert {\n",
              "      background-color: #3B4455;\n",
              "      fill: #D2E3FC;\n",
              "    }\n",
              "\n",
              "    [theme=dark] .colab-df-convert:hover {\n",
              "      background-color: #434B5C;\n",
              "      box-shadow: 0px 1px 3px 1px rgba(0, 0, 0, 0.15);\n",
              "      filter: drop-shadow(0px 1px 2px rgba(0, 0, 0, 0.3));\n",
              "      fill: #FFFFFF;\n",
              "    }\n",
              "  </style>\n",
              "\n",
              "    <script>\n",
              "      const buttonEl =\n",
              "        document.querySelector('#df-da431302-383f-4f19-bbf9-34988569ff05 button.colab-df-convert');\n",
              "      buttonEl.style.display =\n",
              "        google.colab.kernel.accessAllowed ? 'block' : 'none';\n",
              "\n",
              "      async function convertToInteractive(key) {\n",
              "        const element = document.querySelector('#df-da431302-383f-4f19-bbf9-34988569ff05');\n",
              "        const dataTable =\n",
              "          await google.colab.kernel.invokeFunction('convertToInteractive',\n",
              "                                                    [key], {});\n",
              "        if (!dataTable) return;\n",
              "\n",
              "        const docLinkHtml = 'Like what you see? Visit the ' +\n",
              "          '<a target=\"_blank\" href=https://colab.research.google.com/notebooks/data_table.ipynb>data table notebook</a>'\n",
              "          + ' to learn more about interactive tables.';\n",
              "        element.innerHTML = '';\n",
              "        dataTable['output_type'] = 'display_data';\n",
              "        await google.colab.output.renderOutput(dataTable, element);\n",
              "        const docLink = document.createElement('div');\n",
              "        docLink.innerHTML = docLinkHtml;\n",
              "        element.appendChild(docLink);\n",
              "      }\n",
              "    </script>\n",
              "  </div>\n",
              "\n",
              "\n",
              "<div id=\"df-59104237-7cc2-43b7-85c9-12411539c012\">\n",
              "  <button class=\"colab-df-quickchart\" onclick=\"quickchart('df-59104237-7cc2-43b7-85c9-12411539c012')\"\n",
              "            title=\"Suggest charts.\"\n",
              "            style=\"display:none;\">\n",
              "\n",
              "<svg xmlns=\"http://www.w3.org/2000/svg\" height=\"24px\"viewBox=\"0 0 24 24\"\n",
              "     width=\"24px\">\n",
              "    <g>\n",
              "        <path d=\"M19 3H5c-1.1 0-2 .9-2 2v14c0 1.1.9 2 2 2h14c1.1 0 2-.9 2-2V5c0-1.1-.9-2-2-2zM9 17H7v-7h2v7zm4 0h-2V7h2v10zm4 0h-2v-4h2v4z\"/>\n",
              "    </g>\n",
              "</svg>\n",
              "  </button>\n",
              "\n",
              "<style>\n",
              "  .colab-df-quickchart {\n",
              "      --bg-color: #E8F0FE;\n",
              "      --fill-color: #1967D2;\n",
              "      --hover-bg-color: #E2EBFA;\n",
              "      --hover-fill-color: #174EA6;\n",
              "      --disabled-fill-color: #AAA;\n",
              "      --disabled-bg-color: #DDD;\n",
              "  }\n",
              "\n",
              "  [theme=dark] .colab-df-quickchart {\n",
              "      --bg-color: #3B4455;\n",
              "      --fill-color: #D2E3FC;\n",
              "      --hover-bg-color: #434B5C;\n",
              "      --hover-fill-color: #FFFFFF;\n",
              "      --disabled-bg-color: #3B4455;\n",
              "      --disabled-fill-color: #666;\n",
              "  }\n",
              "\n",
              "  .colab-df-quickchart {\n",
              "    background-color: var(--bg-color);\n",
              "    border: none;\n",
              "    border-radius: 50%;\n",
              "    cursor: pointer;\n",
              "    display: none;\n",
              "    fill: var(--fill-color);\n",
              "    height: 32px;\n",
              "    padding: 0;\n",
              "    width: 32px;\n",
              "  }\n",
              "\n",
              "  .colab-df-quickchart:hover {\n",
              "    background-color: var(--hover-bg-color);\n",
              "    box-shadow: 0 1px 2px rgba(60, 64, 67, 0.3), 0 1px 3px 1px rgba(60, 64, 67, 0.15);\n",
              "    fill: var(--button-hover-fill-color);\n",
              "  }\n",
              "\n",
              "  .colab-df-quickchart-complete:disabled,\n",
              "  .colab-df-quickchart-complete:disabled:hover {\n",
              "    background-color: var(--disabled-bg-color);\n",
              "    fill: var(--disabled-fill-color);\n",
              "    box-shadow: none;\n",
              "  }\n",
              "\n",
              "  .colab-df-spinner {\n",
              "    border: 2px solid var(--fill-color);\n",
              "    border-color: transparent;\n",
              "    border-bottom-color: var(--fill-color);\n",
              "    animation:\n",
              "      spin 1s steps(1) infinite;\n",
              "  }\n",
              "\n",
              "  @keyframes spin {\n",
              "    0% {\n",
              "      border-color: transparent;\n",
              "      border-bottom-color: var(--fill-color);\n",
              "      border-left-color: var(--fill-color);\n",
              "    }\n",
              "    20% {\n",
              "      border-color: transparent;\n",
              "      border-left-color: var(--fill-color);\n",
              "      border-top-color: var(--fill-color);\n",
              "    }\n",
              "    30% {\n",
              "      border-color: transparent;\n",
              "      border-left-color: var(--fill-color);\n",
              "      border-top-color: var(--fill-color);\n",
              "      border-right-color: var(--fill-color);\n",
              "    }\n",
              "    40% {\n",
              "      border-color: transparent;\n",
              "      border-right-color: var(--fill-color);\n",
              "      border-top-color: var(--fill-color);\n",
              "    }\n",
              "    60% {\n",
              "      border-color: transparent;\n",
              "      border-right-color: var(--fill-color);\n",
              "    }\n",
              "    80% {\n",
              "      border-color: transparent;\n",
              "      border-right-color: var(--fill-color);\n",
              "      border-bottom-color: var(--fill-color);\n",
              "    }\n",
              "    90% {\n",
              "      border-color: transparent;\n",
              "      border-bottom-color: var(--fill-color);\n",
              "    }\n",
              "  }\n",
              "</style>\n",
              "\n",
              "  <script>\n",
              "    async function quickchart(key) {\n",
              "      const quickchartButtonEl =\n",
              "        document.querySelector('#' + key + ' button');\n",
              "      quickchartButtonEl.disabled = true;  // To prevent multiple clicks.\n",
              "      quickchartButtonEl.classList.add('colab-df-spinner');\n",
              "      try {\n",
              "        const charts = await google.colab.kernel.invokeFunction(\n",
              "            'suggestCharts', [key], {});\n",
              "      } catch (error) {\n",
              "        console.error('Error during call to suggestCharts:', error);\n",
              "      }\n",
              "      quickchartButtonEl.classList.remove('colab-df-spinner');\n",
              "      quickchartButtonEl.classList.add('colab-df-quickchart-complete');\n",
              "    }\n",
              "    (() => {\n",
              "      let quickchartButtonEl =\n",
              "        document.querySelector('#df-59104237-7cc2-43b7-85c9-12411539c012 button');\n",
              "      quickchartButtonEl.style.display =\n",
              "        google.colab.kernel.accessAllowed ? 'block' : 'none';\n",
              "    })();\n",
              "  </script>\n",
              "</div>\n",
              "    </div>\n",
              "  </div>\n"
            ]
          },
          "metadata": {},
          "execution_count": 4
        }
      ],
      "source": [
        "dataset.head(10)"
      ]
    },
    {
      "cell_type": "markdown",
      "source": [
        "**Preprocessing Step**\n",
        "\n",
        "In most data science projects, preprocessing is a foundational step that involves preparing and cleaning the raw data before it is used for analysis or modeling. This ensures that the data is of good quality and that any inconsistencies or inaccuracies are addressed.\n",
        "\n",
        "\n",
        "The first part of the preprocessing is to ascertain if the dataset has any missing values. Handling missing values is crucial because they can adversely affect the results of data analysis or modeling.\n",
        "\n"
      ],
      "metadata": {
        "id": "1dq9VpZh2r2A"
      }
    },
    {
      "cell_type": "code",
      "execution_count": 5,
      "metadata": {
        "id": "BmUtgrBchaOz",
        "colab": {
          "base_uri": "https://localhost:8080/"
        },
        "outputId": "b8632182-aa66-4f09-a119-5ad63af650fd"
      },
      "outputs": [
        {
          "output_type": "stream",
          "name": "stdout",
          "text": [
            "Missing values in each column:\n",
            " Age            0\n",
            "SystolicBP     0\n",
            "DiastolicBP    0\n",
            "BS             0\n",
            "BodyTemp       0\n",
            "HeartRate      0\n",
            "RiskLevel      0\n",
            "dtype: int64\n"
          ]
        }
      ],
      "source": [
        "missing_values = dataset.isnull().sum()\n",
        "print(\"Missing values in each column:\\n\", missing_values)"
      ]
    },
    {
      "cell_type": "markdown",
      "source": [
        "In the dataset, a column named \"RiskLevel\" categorizes maternal health risks into three categories: 'low risk', 'mid risk', and 'high risk'. These descriptive labels are useful, but many machine-learning algorithms require numeric input. As a result, categorical variables are commonly converted to numeric variables."
      ],
      "metadata": {
        "id": "4bklXqqWux6k"
      }
    },
    {
      "cell_type": "code",
      "source": [
        "# Define a mapping dictionary\n",
        "risk_level_mapping = {'low risk': 0 , 'mid risk': 1 , 'high risk': 2 }\n",
        "\n",
        "# Map the numeric values to their corresponding risk levels\n",
        "dataset['RiskLevel'] = dataset['RiskLevel'].map(risk_level_mapping)\n",
        "\n",
        "# Show the updated dataset\n",
        "print(dataset.head())\n"
      ],
      "metadata": {
        "colab": {
          "base_uri": "https://localhost:8080/"
        },
        "id": "F_JcuWQau1LM",
        "outputId": "d135905d-24e4-49ac-eb27-4aa2fb89523a"
      },
      "execution_count": 6,
      "outputs": [
        {
          "output_type": "stream",
          "name": "stdout",
          "text": [
            "   Age  SystolicBP  DiastolicBP    BS  BodyTemp  HeartRate  RiskLevel\n",
            "0   25         130           80  15.0      98.0         86          2\n",
            "1   35         140           90  13.0      98.0         70          2\n",
            "2   29          90           70   8.0     100.0         80          2\n",
            "3   30         140           85   7.0      98.0         70          2\n",
            "4   35         120           60   6.1      98.0         76          0\n"
          ]
        }
      ]
    },
    {
      "cell_type": "code",
      "source": [
        "# Create a bar plot of 'RiskLevel' value counts\n",
        "sns.countplot(x='RiskLevel', data=dataset)\n",
        "\n",
        "# Set the title and labels of the plot\n",
        "plt.title('Distribution of Risk Levels')\n",
        "plt.ylabel('Count')\n",
        "plt.xticks(ticks=[0,1,2], labels=['Low Risk', 'Mid Risk', 'High Risk'])\n",
        "\n",
        "# Display the plot\n",
        "plt.show()"
      ],
      "metadata": {
        "colab": {
          "base_uri": "https://localhost:8080/",
          "height": 472
        },
        "id": "WaX91KHbu4MK",
        "outputId": "7f3b7a71-43ed-4677-971c-7ff086d42708"
      },
      "execution_count": 7,
      "outputs": [
        {
          "output_type": "display_data",
          "data": {
            "text/plain": [
              "<Figure size 640x480 with 1 Axes>"
            ],
            "image/png": "[encoded data removed]"
          },
          "metadata": {}
        }
      ]
    },
    {
      "cell_type": "markdown",
      "source": [
        "Analyzing complex data requires first understanding the basic landscape of the data. By determining the minimum, maximum, and range of dataset values, we can extract fundamental data insights that will assist in future preprocessing and modeling."
      ],
      "metadata": {
        "id": "CP1nkMb27A4n"
      }
    },
    {
      "cell_type": "code",
      "execution_count": 8,
      "metadata": {
        "id": "LT_iYgxhhaO0",
        "colab": {
          "base_uri": "https://localhost:8080/"
        },
        "outputId": "43cc74e8-5353-4eb9-bd5e-c006a1839876"
      },
      "outputs": [
        {
          "output_type": "stream",
          "name": "stdout",
          "text": [
            "             Min Value  Max Value\n",
            "Age               10.0       70.0\n",
            "SystolicBP        70.0      160.0\n",
            "DiastolicBP       49.0      100.0\n",
            "BS                 6.0       19.0\n",
            "BodyTemp          98.0      103.0\n",
            "HeartRate          7.0       90.0\n",
            "RiskLevel          0.0        2.0\n",
            "Age            60.0\n",
            "SystolicBP     90.0\n",
            "DiastolicBP    51.0\n",
            "BS             13.0\n",
            "BodyTemp        5.0\n",
            "HeartRate      83.0\n",
            "RiskLevel       2.0\n",
            "dtype: float64\n"
          ]
        }
      ],
      "source": [
        "# Get the minimum value and maximum value for each column in the dataset\n",
        "min_values = dataset.min()\n",
        "max_values = dataset.max()\n",
        "\n",
        "# Create a DataFrame to show the minimum and maximum values side-by-side for each feature\n",
        "domains = pd.DataFrame({'Min Value': min_values, 'Max Value': max_values})\n",
        "print(domains)\n",
        "\n",
        "# Compute the range (difference between max and min) for each column\n",
        "ranges = dataset.max() - dataset.min()\n",
        "print(ranges)"
      ]
    },
    {
      "cell_type": "markdown",
      "source": [
        "The next step is to split a dataset into separate training and testing subsets. In data analysis and machine learning, this is a common practice to ensure the model does not only fit the data it has seen but also performs well on unseen data. In this way, the generalization capability of the model can be assessed."
      ],
      "metadata": {
        "id": "TaditHIqu8Hf"
      }
    },
    {
      "cell_type": "code",
      "source": [
        "# Splitting the dataset into training and testing sets\n",
        "X = dataset.drop('RiskLevel', axis=1)  # Features (excluding the 'RiskLevel' column)\n",
        "y = dataset['RiskLevel']               # Target variable\n",
        "\n",
        "X_train, X_test, y_train, y_test = train_test_split(X, y, test_size=0.2, random_state=42)\n",
        "\n",
        "# Printing the shape of training and testing sets\n",
        "print(\"Shape of X_train:\", X_train.shape)\n",
        "print(\"Shape of X_test:\", X_test.shape)\n",
        "print(\"Shape of y_train:\", y_train.shape)\n",
        "print(\"Shape of y_test:\", y_test.shape)"
      ],
      "metadata": {
        "colab": {
          "base_uri": "https://localhost:8080/"
        },
        "id": "KUNsqmurvAR4",
        "outputId": "43c5a36e-6838-4bfc-bed6-c7c651a2b943"
      },
      "execution_count": 9,
      "outputs": [
        {
          "output_type": "stream",
          "name": "stdout",
          "text": [
            "Shape of X_train: (811, 6)\n",
            "Shape of X_test: (203, 6)\n",
            "Shape of y_train: (811,)\n",
            "Shape of y_test: (203,)\n"
          ]
        }
      ]
    },
    {
      "cell_type": "markdown",
      "source": [
        "Normalizing attributes ensures consistent scales, enhancing data analysis and machine learning.Using Min-Max scaling, dataset attributes are transformed to a [0, 1] range.  The data is automatically normalized and returned as a DataFrame using MinMaxScaler from sklearn.preprocessing."
      ],
      "metadata": {
        "id": "fFyaIxDNvBBZ"
      }
    },
    {
      "cell_type": "code",
      "source": [
        "# Initialize a scaler\n",
        "scaler = MinMaxScaler()\n",
        "\n",
        "# Fit and transform the dataset to normalize it\n",
        "normalized_dataset = scaler.fit_transform(dataset)\n",
        "\n",
        "# Convert the normalized array back to a DataFrame\n",
        "normalized_df = pd.DataFrame(normalized_dataset, columns=dataset.columns)\n",
        "\n",
        "print(normalized_df.head())"
      ],
      "metadata": {
        "id": "3CSqDoTOwaKA"
      },
      "execution_count": null,
      "outputs": []
    },
    {
      "cell_type": "markdown",
      "source": [
        "In the preprocessing phase, we have carefully addressed the critical steps needed to prepare our data for advanced analytics and modelling. From handling missing values to converting categorical labels to numerical ones, to visually displaying the distribution, we have put a solid foundation in place. We ensure that our dataset is not only kept intact but also primed for further analysis using this thorough approach.\n"
      ],
      "metadata": {
        "id": "61go4NeA7gZU"
      }
    },
    {
      "cell_type": "markdown",
      "source": [
        "--------------------------------------------------------------------------\n"
      ],
      "metadata": {
        "id": "AgmNpoSdus9U"
      }
    },
    {
      "cell_type": "markdown",
      "source": [
        "**4. Training with two models**\n",
        "\n",
        "**Training a Gaussian Naive Bayes Classifier**\n",
        "\n",
        "The Gaussian Naive Bayes classifier (GNB) is a variant of the Naive Bayes classifier designed for continuous data. The data from each label is assumed to be drawn from a simple Gaussian distribution.\n",
        "\n",
        "Using the training datasets (X_train and Y_train), train the classifier. Once trained, use the model to predict the test data (X_test). Evaluate the classifier's performance using various metrics. Accuracy measures the proportion of correctly predicted classifications. Each class's classification report provides metrics such as precision, recall, and f1-score. In the confusion matrix, actual classifications are compared with predicted classifications, showing the performance of the classifier.\n"
      ],
      "metadata": {
        "id": "NdO_H-4t-6mg"
      }
    },
    {
      "cell_type": "code",
      "source": [
        "# Initialize Gaussian Naive Bayes\n",
        "gnb = GaussianNB()\n",
        "\n",
        "# Fit the model\n",
        "gnb.fit(X_train, y_train)\n",
        "\n",
        "# Predict using the test set\n",
        "y_pred = gnb.predict(X_test)\n",
        "\n",
        "# Evaluate the model\n",
        "accuracy = accuracy_score(y_test, y_pred)\n",
        "print(f\"Accuracy: {accuracy * 100:.2f}%\")\n",
        "\n",
        "# Print classification report\n",
        "print(\"\\nClassification Report:\\n\", classification_report(y_test, y_pred))\n",
        "\n",
        "# Display confusion matrix\n",
        "conf_matrix = confusion_matrix(y_test, y_pred)\n",
        "sns.heatmap(conf_matrix, annot=True, fmt='g')\n",
        "plt.xlabel('Predicted labels')\n",
        "plt.ylabel('True labels')\n",
        "plt.title('Confusion Matrix')\n",
        "plt.show()"
      ],
      "metadata": {
        "colab": {
          "base_uri": "https://localhost:8080/",
          "height": 709
        },
        "id": "RxzqEt3056YU",
        "outputId": "fcf30938-6e84-47ba-d252-0a5dd9bedb97"
      },
      "execution_count": 10,
      "outputs": [
        {
          "output_type": "stream",
          "name": "stdout",
          "text": [
            "Accuracy: 57.64%\n",
            "\n",
            "Classification Report:\n",
            "               precision    recall  f1-score   support\n",
            "\n",
            "           0       0.52      0.91      0.66        80\n",
            "           1       0.56      0.18      0.28        76\n",
            "           2       0.79      0.64      0.71        47\n",
            "\n",
            "    accuracy                           0.58       203\n",
            "   macro avg       0.62      0.58      0.55       203\n",
            "weighted avg       0.60      0.58      0.53       203\n",
            "\n"
          ]
        },
        {
          "output_type": "display_data",
          "data": {
            "text/plain": [
              "<Figure size 640x480 with 2 Axes>"
            ],
            "image/png": "[encoded data removed]"
          },
          "metadata": {}
        }
      ]
    },
    {
      "cell_type": "markdown",
      "source": [
        "**Training Logistic Regression Classifier**\n",
        "\n",
        "Logistic Regression is a statistical method for analyzing a dataset in which there are one or more independent variables that determine an outcome. The outcome is measured with a dichotomous variable (in which there are only two possible outcomes). It is used to predict a binary outcome (1 / 0, Yes / No, True / False) given a set of independent variables.\n",
        "\n",
        "Logistic Regression works by taking the linear combination of the input features and applying a non-linear transformation, the logistic function or sigmoid function, to produce a probability value that can then be mapped to two or more discrete classes.\n",
        "\n",
        "To build a logistic regression model using Scikit-learn, we start by importing necessary libraries and your dataset. After inspecting and cleaning the data, separate the features (independent variables) and the target variable (dependent variable). Next, split the data into training and testing sets to enable validation of the model's performance on unseen data. Feature scaling should then be applied to standardize the feature variables, enhancing the model's performance.\n",
        "\n",
        "\n"
      ],
      "metadata": {
        "id": "q4vwq9LTMdFS"
      }
    },
    {
      "cell_type": "code",
      "source": [
        "#Separate the features and the target variable.\n",
        "data = pd.read_csv(url)\n",
        "X = data[['Age', 'SystolicBP', 'DiastolicBP', 'BS', 'BodyTemp', 'HeartRate']]\n",
        "y = data['RiskLevel']\n",
        "\n",
        "#Standardize the features to improve the performance of the logistic regression model.\n",
        "from sklearn.preprocessing import StandardScaler\n",
        "scaler = StandardScaler()\n",
        "X_train = scaler.fit_transform(X_train)\n",
        "X_test = scaler.transform(X_test)\n",
        "\n",
        "#Create and train the logistic regression model.\n",
        "from sklearn.linear_model import LogisticRegression\n",
        "model = LogisticRegression(random_state=42)\n",
        "model.fit(X_train, y_train)\n",
        "\n",
        "#Make predictions using the testing data.\n",
        "y_pred = model.predict(X_test)\n",
        "\n",
        "from sklearn.metrics import accuracy_score, confusion_matrix, classification_report\n",
        "\n",
        "print(\"Accuracy:\", accuracy_score(y_test, y_pred))\n",
        "print(\"Classification Report:\\n\", classification_report(y_test, y_pred))\n",
        "\n",
        "from sklearn.metrics import confusion_matrix\n",
        "import seaborn as sns\n",
        "import matplotlib.pyplot as plt\n",
        "\n",
        "# Generate the confusion matrix\n",
        "cm = confusion_matrix(y_test, y_pred)\n",
        "\n",
        "# Plot the confusion matrix using a heatmap\n",
        "plt.figure(figsize=(10,7))\n",
        "sns.heatmap(cm, annot=True, fmt='g', cmap='coolwarm')\n",
        "plt.title('Confusion Matrix')\n",
        "plt.xlabel('Predicted')\n",
        "plt.ylabel('Actual')\n",
        "plt.show()"
      ],
      "metadata": {
        "colab": {
          "base_uri": "https://localhost:8080/",
          "height": 860
        },
        "id": "kzobHuQHOqjV",
        "outputId": "fa603089-599c-4ff0-98f2-e560c4830bec"
      },
      "execution_count": 11,
      "outputs": [
        {
          "output_type": "stream",
          "name": "stdout",
          "text": [
            "Accuracy: 0.6502463054187192\n",
            "Classification Report:\n",
            "               precision    recall  f1-score   support\n",
            "\n",
            "           0       0.62      0.89      0.73        80\n",
            "           1       0.68      0.28      0.39        76\n",
            "           2       0.70      0.85      0.77        47\n",
            "\n",
            "    accuracy                           0.65       203\n",
            "   macro avg       0.67      0.67      0.63       203\n",
            "weighted avg       0.66      0.65      0.61       203\n",
            "\n"
          ]
        },
        {
          "output_type": "display_data",
          "data": {
            "text/plain": [
              "<Figure size 1000x700 with 2 Axes>"
            ],
            "image/png": "[encoded data removed]"
          },
          "metadata": {}
        }
      ]
    },
    {
      "cell_type": "markdown",
      "source": [
        "--------------------------------------------------------------------------\n"
      ],
      "metadata": {
        "id": "4Ypp7TpkAIUe"
      }
    },
    {
      "cell_type": "markdown",
      "source": [
        "**5. Train/test/evaluate 2 models in cross-validation**\n",
        "\n",
        "The cross-validation method is used to estimate a model's performance. Rather than dividing the dataset into training and test parts, it is divided into 'k' number of folds subsets. 'K-1' folds are used to train the model and the remaining folds are used to test it. It is repeated 'k' times with each fold being used exactly once as a test set. In order to produce a single value, the overall performance metric is averaged over 'k' test sets. Especially on small datasets, cross-validation provides a better estimate of model performance since each observation is used both for training and testing."
      ],
      "metadata": {
        "id": "aI_vn5fj5-Qi"
      }
    },
    {
      "cell_type": "markdown",
      "source": [
        "**For Gaussian Naive Bayes**\n",
        "\n",
        "Firstly, ensure that we have our dataset loaded and separated into features (X) and target variable (y).\n"
      ],
      "metadata": {
        "id": "gQit6vUP6Amx"
      }
    },
    {
      "cell_type": "code",
      "source": [
        "data = load_iris()\n",
        "X, y = data.data, data.target"
      ],
      "metadata": {
        "id": "xhkGSjoe6DIm"
      },
      "execution_count": 12,
      "outputs": []
    },
    {
      "cell_type": "markdown",
      "source": [
        "Here, the Gaussian Naive Bayes classifier is being set up and initialized. This classifier is particularly suited for datasets where the features are normally distributed. The core of the code involves using the cross_val_predict function:"
      ],
      "metadata": {
        "id": "ZJboNh796FWN"
      }
    },
    {
      "cell_type": "code",
      "source": [
        "# Initialize Gaussian Naive Bayes\n",
        "gnb = GaussianNB()\n",
        "\n",
        "# Use cross_val_predict to get the predicted values for each fold\n",
        "y_pred = cross_val_predict(gnb, X, y, cv=4)"
      ],
      "metadata": {
        "id": "5YRhQRYZ6FjU"
      },
      "execution_count": 13,
      "outputs": []
    },
    {
      "cell_type": "markdown",
      "source": [
        "In this section, we calculate precision and recall to evaluate the model's performance. Precision and recall are calculated using the precision_score and recall_score functions from Scikit-learn.\n",
        "\n",
        "**Macro Average**: Calculates the metric independently for each class and then takes the average. This treats all classes equally, regardless of their frequency in the dataset.\n",
        "\n",
        "**Micro Average**: Calculates the metric globally by considering the total true positives, false negatives, and false positives. This treats all instances equally, which is preferable when you have class imbalance.\n",
        "\n",
        "A micro average and a macro average are computed:"
      ],
      "metadata": {
        "id": "SZOBxiEh6KwL"
      }
    },
    {
      "cell_type": "code",
      "source": [
        "# Calculate precision and recall for micro average\n",
        "precision_micro = precision_score(y, y_pred, average='micro')\n",
        "recall_micro = recall_score(y, y_pred, average='micro')\n",
        "\n",
        "# Calculate precision and recall for macro average\n",
        "precision_macro = precision_score(y, y_pred, average='macro')\n",
        "recall_macro = recall_score(y, y_pred, average='macro')\n",
        "\n",
        "print(f\"Micro-average Precision: {precision_micro * 100:.2f}%\")\n",
        "print(f\"Micro-average Recall: {recall_micro * 100:.2f}%\")\n",
        "print(f\"Macro-average Precision: {precision_macro * 100:.2f}%\")\n",
        "print(f\"Macro-average Recall: {recall_macro * 100:.2f}%\")\n"
      ],
      "metadata": {
        "colab": {
          "base_uri": "https://localhost:8080/"
        },
        "id": "AanIcBrf6Ns6",
        "outputId": "5a47c0c8-71ca-4aaa-b7fc-f686590c395e"
      },
      "execution_count": 14,
      "outputs": [
        {
          "output_type": "stream",
          "name": "stdout",
          "text": [
            "Micro-average Precision: 95.33%\n",
            "Micro-average Recall: 95.33%\n",
            "Macro-average Precision: 95.34%\n",
            "Macro-average Recall: 95.33%\n"
          ]
        }
      ]
    },
    {
      "cell_type": "markdown",
      "source": [
        "Cross-validation offers a more robust way to evaluate model performance. Both micro and macro precision and recall scores were above 95% for the Gaussian Naive Bayes classifier on the Iris dataset. Moreover, as can be seen from the class distribution, the Iris dataset is balanced with equal numbers of samples from each class. Due to this balance, the micro-average and macro-average values will be close, as observed in the results. This ensures that the model is not biased towards any one class due to the balance in the dataset.\n",
        "\n",
        "**Logistic Regression**"
      ],
      "metadata": {
        "id": "MuMVrd_p6Onx"
      }
    },
    {
      "cell_type": "code",
      "source": [
        "from sklearn.model_selection import cross_val_predict\n",
        "from sklearn.metrics import precision_score, recall_score, f1_score\n",
        "\n",
        "\n",
        "# 4-fold cross-validation\n",
        "k = 4\n",
        "\n",
        "# Train/test/evaluate the logistic regression model\n",
        "model = LogisticRegression(max_iter=1000)\n",
        "y_pred = cross_val_predict(model, X, y, cv=k)\n",
        "\n",
        "\n",
        "# Calculate precision and recall for each class\n",
        "precision_macro = precision_score(y, y_pred, average='macro')\n",
        "recall_macro = recall_score(y, y_pred, average='macro')\n",
        "f1_macro = f1_score(y, y_pred, average='macro')\n",
        "\n",
        "precision_micro = precision_score(y, y_pred, average='micro')\n",
        "recall_micro = recall_score(y, y_pred, average='micro')\n",
        "f1_micro = f1_score(y, y_pred, average='micro')\n"
      ],
      "metadata": {
        "id": "Tkc0dPy3ECx6"
      },
      "execution_count": 15,
      "outputs": []
    },
    {
      "cell_type": "markdown",
      "source": [
        "This section calculates the precision, recall, and F1-score for the model predictions. precision_score and recall_score take the true values (y), predicted values (y_pred), and the type of averaging (macro or micro) as inputs and return the precision and recall scores respectively. f1_score calculates the F1-score, which is the harmonic mean of precision and recall."
      ],
      "metadata": {
        "id": "6RyVLce8aY_L"
      }
    },
    {
      "cell_type": "code",
      "source": [
        "# Display the results\n",
        "print(f'Macro Precision: {precision_macro:.2f}')\n",
        "print(f'Macro Recall: {recall_macro:.2f}')\n",
        "print(f'Macro F1 Score: {f1_macro:.2f}\\n')\n",
        "\n",
        "print(f'Micro Precision: {precision_micro:.2f}')\n",
        "print(f'Micro Recall: {recall_micro:.2f}')\n",
        "print(f'Micro F1 Score: {f1_micro:.2f}')"
      ],
      "metadata": {
        "colab": {
          "base_uri": "https://localhost:8080/"
        },
        "id": "ELqVWPzeaaS-",
        "outputId": "a0637777-60d6-4b04-c92b-46b894d1cb01"
      },
      "execution_count": 16,
      "outputs": [
        {
          "output_type": "stream",
          "name": "stdout",
          "text": [
            "Macro Precision: 0.97\n",
            "Macro Recall: 0.97\n",
            "Macro F1 Score: 0.97\n",
            "\n",
            "Micro Precision: 0.97\n",
            "Micro Recall: 0.97\n",
            "Micro F1 Score: 0.97\n"
          ]
        }
      ]
    },
    {
      "cell_type": "markdown",
      "source": [
        "The micro average aggregates the contributions of all classes to compute the average metric, while the macro average computes the metric independently for each class and then takes the average. If dataset has balanced classes, the micro and macro averages might be close, but if the dataset is imbalanced, the micro average might be misleading because it will be dominated by the majority class. Both micro and macro precision and recall scores were above 95% for the Gaussian Naive Bayes classifier on the Iris dataset. Moreover, as can be seen from the class distribution, the Iris dataset is balanced with equal numbers of samples from each class."
      ],
      "metadata": {
        "id": "cT7cF6ZCah1b"
      }
    },
    {
      "cell_type": "markdown",
      "source": [
        "**6. Modify parameters with performing train/test/evaluate**\n"
      ],
      "metadata": {
        "id": "V92kgZgPELLw"
      }
    },
    {
      "cell_type": "markdown",
      "source": [
        "**Change parameters for Naïve Bayes model**"
      ],
      "metadata": {
        "id": "mT6_NMNTZoI9"
      }
    },
    {
      "cell_type": "code",
      "source": [
        "# Original\n",
        "nb_original = GaussianNB()\n",
        "nb_original.fit(X_train, y_train)\n",
        "y_pred_original = nb_original.predict(X_test)\n",
        "print(\"Original Accuracy:\", accuracy_score(y_test, y_pred_original))\n",
        "\n",
        "# Modified var_smoothing\n",
        "nb_modified = GaussianNB(var_smoothing=1e-2)  # Increasing the variance smoothing\n",
        "nb_modified.fit(X_train, y_train)\n",
        "y_pred_modified = nb_modified.predict(X_test)\n",
        "print(\"Modified Accuracy for Increasing var_smoothing:\", accuracy_score(y_test, y_pred_modified))\n",
        "\n"
      ],
      "metadata": {
        "colab": {
          "base_uri": "https://localhost:8080/"
        },
        "id": "nZFLamJUtt10",
        "outputId": "2586279e-0af1-4170-cba2-3d830e396867"
      },
      "execution_count": 17,
      "outputs": [
        {
          "output_type": "stream",
          "name": "stdout",
          "text": [
            "Original Accuracy: 0.5763546798029556\n",
            "Modified Accuracy for Increasing var_smoothing: 0.5665024630541872\n"
          ]
        }
      ]
    },
    {
      "cell_type": "code",
      "source": [
        "# Decreased var_smoothing\n",
        "nb_decreased = GaussianNB(var_smoothing=1e-12)  # Decreasing the variance smoothing\n",
        "nb_decreased.fit(X_train, y_train)\n",
        "y_pred_decreased = nb_decreased.predict(X_test)\n",
        "print(\"Modified Accuracy for Decreasing var_smoothing:\", accuracy_score(y_test, y_pred_decreased))\n"
      ],
      "metadata": {
        "colab": {
          "base_uri": "https://localhost:8080/"
        },
        "id": "gPQ79luiWIwX",
        "outputId": "e3e6305a-6183-4b69-fd9f-15ac34549515"
      },
      "execution_count": 18,
      "outputs": [
        {
          "output_type": "stream",
          "name": "stdout",
          "text": [
            "Modified Accuracy for Decreasing var_smoothing: 0.5763546798029556\n"
          ]
        }
      ]
    },
    {
      "cell_type": "markdown",
      "source": [
        "In this experiment, we modify the var_smoothing parameter of the Gaussian Naïve Bayes model. var_smoothing is a portion of the largest variance of all features that is added to variances for calculation stability. By changing this parameter, we are altering how the model smoothens the results. We observe that the accuracy decreases slightly with increased variance smoothing, which could mean that the model is overfitting less but losing some predictive power. And for decreased variance smoothing the accuracy is not change because Var_smoothing is usually set to a small value of around 1e-9 by default. A smaller var_smoothing value will not produce any visible results after the change."
      ],
      "metadata": {
        "id": "YabuXwbPPaR7"
      }
    },
    {
      "cell_type": "markdown",
      "source": [
        "**Change parameters for Logistic Regression model**"
      ],
      "metadata": {
        "id": "01LMTYdNZwwg"
      }
    },
    {
      "cell_type": "code",
      "source": [
        "# Original\n",
        "lr_original = LogisticRegression(max_iter=1000)\n",
        "lr_original.fit(X_train, y_train)\n",
        "y_pred_original = lr_original.predict(X_test)\n",
        "print(\"Original Accuracy:\", accuracy_score(y_test, y_pred_original))\n",
        "\n",
        "# Change C value\n",
        "lr_reg = LogisticRegression(C=0.1, max_iter=1000)\n",
        "lr_reg.fit(X_train, y_train)\n",
        "y_pred_reg = lr_reg.predict(X_test)\n",
        "print(\"Accuracy with Regularization (C=0.1):\", accuracy_score(y_test, y_pred_reg))\n"
      ],
      "metadata": {
        "colab": {
          "base_uri": "https://localhost:8080/"
        },
        "id": "HTYfYjKptvtG",
        "outputId": "15383a1f-a741-4613-ef37-fbab1c270e32"
      },
      "execution_count": 19,
      "outputs": [
        {
          "output_type": "stream",
          "name": "stdout",
          "text": [
            "Original Accuracy: 0.6502463054187192\n",
            "Accuracy with Regularization (C=0.1): 0.645320197044335\n"
          ]
        }
      ]
    },
    {
      "cell_type": "code",
      "source": [
        "# Modified solver to 'saga'\n",
        "lr_modified = LogisticRegression(solver='saga', max_iter=1000)\n",
        "lr_modified.fit(X_train, y_train)\n",
        "y_pred_modified = lr_modified.predict(X_test)\n",
        "print(\"Modified Solver Accuracy:\", accuracy_score(y_test, y_pred_modified))"
      ],
      "metadata": {
        "id": "bOrgH1BVdDJN",
        "outputId": "970acad5-303c-4417-dfcb-b292f5c8d2ef",
        "colab": {
          "base_uri": "https://localhost:8080/"
        }
      },
      "execution_count": 20,
      "outputs": [
        {
          "output_type": "stream",
          "name": "stdout",
          "text": [
            "Modified Solver Accuracy: 0.6502463054187192\n"
          ]
        }
      ]
    },
    {
      "cell_type": "code",
      "source": [
        "# Adjust class weights\n",
        "lr_weighted = LogisticRegression(class_weight='balanced', max_iter=1000)\n",
        "lr_weighted.fit(X_train, y_train)\n",
        "y_pred_weighted = lr_weighted.predict(X_test)\n",
        "print(\"Accuracy with Balanced Class Weights:\", accuracy_score(y_test, y_pred_weighted))\n"
      ],
      "metadata": {
        "colab": {
          "base_uri": "https://localhost:8080/"
        },
        "id": "yRk0K1K-bYuR",
        "outputId": "c47ed51b-ef7c-4505-85ff-43ea644b1fa3"
      },
      "execution_count": 21,
      "outputs": [
        {
          "output_type": "stream",
          "name": "stdout",
          "text": [
            "Accuracy with Balanced Class Weights: 0.625615763546798\n"
          ]
        }
      ]
    },
    {
      "cell_type": "markdown",
      "source": [
        "In this experiment, we change the solver parameter of the Logistic Regression model. The solver parameter determines the algorithm to use in the optimization problem. We observe that changing the solver to 'saga' does not impact the accuracy, which indicates that the dataset characteristics and model complexity are such that different solvers converge to similar solutions.\n",
        "\n",
        "Here we are modifying three parameters of the Logistic Regression model: Regularization strength (C): Decreasing the regularization strength (C=0.1) slightly decreased the accuracy.\n",
        "Solver (solver): Changing the solver to 'saga' did not have a significant impact on the accuracy.\n",
        "Class weights (class_weight): Adjusting class weights to be 'balanced' decreased the accuracy.\n"
      ],
      "metadata": {
        "id": "E6f9gcohRDyN"
      }
    },
    {
      "cell_type": "code",
      "source": [
        "# Modified tolerance\n",
        "lr_modified_tol = LogisticRegression(tol=1e-5, max_iter=1000)\n",
        "lr_modified_tol.fit(X_train, y_train)\n",
        "y_pred_modified_tol = lr_modified_tol.predict(X_test)\n",
        "print(\"Modified Tolerance Accuracy:\", accuracy_score(y_test, y_pred_modified_tol))\n"
      ],
      "metadata": {
        "colab": {
          "base_uri": "https://localhost:8080/"
        },
        "id": "aDvTsbTZt0Dz",
        "outputId": "0d7796b3-0cd4-43f0-86b0-35d8b3bbb1c5"
      },
      "execution_count": 22,
      "outputs": [
        {
          "output_type": "stream",
          "name": "stdout",
          "text": [
            "Modified Tolerance Accuracy: 0.6502463054187192\n"
          ]
        }
      ]
    },
    {
      "cell_type": "markdown",
      "source": [
        "In this experiment, we adjust the tolerance parameter of the Logistic Regression model. The tolerance parameter specifies the tolerance for stopping criteria. We observe that changing the tolerance does not impact the accuracy, indicating that the model is stable with respect to the stopping criteria.\n",
        "\n",
        "\n",
        "In conclusion, the empirical study showed that modifying certain parameters can have a significant impact on the performance of the models. It is essential to understand the implications of each parameter and carefully tune them to improve model performance."
      ],
      "metadata": {
        "id": "6wj0aEB8RGrZ"
      }
    },
    {
      "cell_type": "markdown",
      "source": [
        "**7. Conclusion**"
      ],
      "metadata": {
        "id": "Mg4Oz_8HELdM"
      }
    },
    {
      "cell_type": "markdown",
      "source": [
        "The provided code performs cross-validation on a dataset using different models and parameters, and then evaluates their performance in terms of precision and recall. In this piece of code, we are evaluating different machine learning models using 4-fold cross-validation, with an emphasis on precision and recall metrics. We are using 4-fold cross-validation, meaning the dataset will be divided into four parts. Three parts will be used for training, and the fourth part will be used for testing. This process will be repeated four times, with each part being used as the testing set exactly once."
      ],
      "metadata": {
        "id": "swAPZNC5eRq0"
      }
    },
    {
      "cell_type": "code",
      "source": [
        "data = pd.read_csv(url)\n",
        "X = data[['Age', 'SystolicBP', 'DiastolicBP', 'BS', 'BodyTemp', 'HeartRate']]\n",
        "y = data['RiskLevel']\n",
        "k = 4  # Using 4-fold cross-validation as set previously\n",
        "\n",
        "models = [\n",
        "    GaussianNB(),\n",
        "    GaussianNB(var_smoothing=1e-2),\n",
        "    GaussianNB(var_smoothing=1e-1),\n",
        "    LogisticRegression(max_iter=10000),\n",
        "    LogisticRegression(solver='saga', max_iter=10000),\n",
        "    LogisticRegression(tol=1e-5, max_iter=10000)\n",
        "]\n",
        "\n",
        "results = {\n",
        "    \"Model\": [],\n",
        "    \"Params\": [],\n",
        "    \"Macro Precision\": [],\n",
        "    \"Macro Recall\": [],\n",
        "    \"Micro Precision\": [],\n",
        "    \"Micro Recall\": []\n",
        "}\n",
        "\n",
        "for model in models:\n",
        "    y_pred = cross_val_predict(model, X, y, cv=k)\n",
        "\n",
        "    results[\"Model\"].append(model.__class__.__name__)\n",
        "    results[\"Params\"].append(str(model.get_params()))\n",
        "\n",
        "    results[\"Macro Precision\"].append(precision_score(y, y_pred, average='macro'))\n",
        "    results[\"Macro Recall\"].append(recall_score(y, y_pred, average='macro'))\n",
        "    results[\"Micro Precision\"].append(precision_score(y, y_pred, average='micro'))\n",
        "    results[\"Micro Recall\"].append(recall_score(y, y_pred, average='micro'))\n",
        "\n",
        "results_df = pd.DataFrame(results)\n",
        "print(results_df)\n"
      ],
      "metadata": {
        "colab": {
          "base_uri": "https://localhost:8080/"
        },
        "id": "W5fxVGW8viW8",
        "outputId": "a57a541f-b6eb-426a-cfd7-cfbae705205e"
      },
      "execution_count": 23,
      "outputs": [
        {
          "output_type": "stream",
          "name": "stdout",
          "text": [
            "                Model                                             Params  \\\n",
            "0          GaussianNB           {'priors': None, 'var_smoothing': 1e-09}   \n",
            "1          GaussianNB            {'priors': None, 'var_smoothing': 0.01}   \n",
            "2          GaussianNB             {'priors': None, 'var_smoothing': 0.1}   \n",
            "3  LogisticRegression  {'C': 1.0, 'class_weight': None, 'dual': False...   \n",
            "4  LogisticRegression  {'C': 1.0, 'class_weight': None, 'dual': False...   \n",
            "5  LogisticRegression  {'C': 1.0, 'class_weight': None, 'dual': False...   \n",
            "\n",
            "   Macro Precision  Macro Recall  Micro Precision  Micro Recall  \n",
            "0         0.606749      0.581506         0.597633      0.597633  \n",
            "1         0.616688      0.595643         0.607495      0.607495  \n",
            "2         0.572398      0.569251         0.559172      0.559172  \n",
            "3         0.613453      0.610033         0.615385      0.615385  \n",
            "4         0.596977      0.568475         0.577909      0.577909  \n",
            "5         0.613453      0.610033         0.615385      0.615385  \n"
          ]
        }
      ]
    },
    {
      "cell_type": "markdown",
      "source": [
        "\n",
        "\n",
        "---\n",
        "\n",
        "\n",
        "\n",
        "Then we create two separate bar graphs. The first graph will show the changes in accuracy for the Naïve Bayes model when we modify the var_smoothing parameter. The second graph will show the changes in accuracy for the Logistic Regression model when we modify the C parameter, class weights, solver, and tolerance."
      ],
      "metadata": {
        "id": "OLz5mAcIeQAd"
      }
    },
    {
      "cell_type": "code",
      "source": [
        "import matplotlib.pyplot as plt\n",
        "\n",
        "# Data for Naive Bayes model\n",
        "naive_bayes_labels = ['Original', 'Increase var_smoothing', 'Decrease var_smoothing']\n",
        "naive_bayes_accuracy = [0.5763546798029556, 0.5665024630541872, 0.5763546798029556]\n",
        "\n",
        "# Data for Logistic Regression model\n",
        "logistic_regression_labels = ['Original', 'Regularization (C=0.1)', 'Balanced Class Weights', 'Modified Solver', 'Modified Tolerance']\n",
        "logistic_regression_accuracy = [0.6502463054187192, 0.645320197044335, 0.625615763546798, 0.6502463054187192, 0.6502463054187192]\n",
        "\n",
        "# Plot for Naive Bayes model\n",
        "fig, axes = plt.subplots(nrows=1, ncols=2, figsize=(15, 5))\n",
        "\n",
        "axes[0].bar(naive_bayes_labels, naive_bayes_accuracy, color=['blue', 'orange', 'green'])\n",
        "axes[0].set_title('Naive Bayes Model Accuracy')\n",
        "axes[0].set_ylabel('Accuracy')\n",
        "axes[0].set_ylim(0.55, 0.6)\n",
        "\n",
        "# Plot for Logistic Regression model\n",
        "axes[1].bar(logistic_regression_labels, logistic_regression_accuracy, color=['blue', 'orange', 'green', 'red', 'purple'])\n",
        "axes[1].set_title('Logistic Regression Model Accuracy')\n",
        "axes[1].set_ylabel('Accuracy')\n",
        "axes[1].set_ylim(0.6, 0.66)\n",
        "\n",
        "plt.tight_layout()\n",
        "plt.show()\n"
      ],
      "metadata": {
        "colab": {
          "base_uri": "https://localhost:8080/",
          "height": 507
        },
        "id": "haOHi05daqDo",
        "outputId": "8b49d8b8-08f3-4d54-fc7e-8c9e9e9d3485"
      },
      "execution_count": 24,
      "outputs": [
        {
          "output_type": "display_data",
          "data": {
            "text/plain": [
              "<Figure size 1500x500 with 2 Axes>"
            ],
            "image/png": "[encoded data removed]"
          },
          "metadata": {}
        }
      ]
    },
    {
      "cell_type": "markdown",
      "source": [
        "In a multi-class classification problem like this one, types of averages can be used for calculating precision and recall. If we are dealing with a multi-class classification problem, changing the strategy (ovr or multinomial) can have an impact on the model's performance\n",
        "\n",
        "Macro Average: This is calculated by taking the mean of the precision (or recall) scores for each class, without taking the class imbalance into account. Micro Average: This is calculated by summing up the individual true positives, false positives, and false negatives of the system for different sets and then computing the precision (or recall).\n",
        "\n",
        "For Macro Precision and Recall, This will give us an average of precision and recall scores for each class, treating all classes equally. If one class has a significantly lower precision or recall than others, it will be reflected in the macro average. For Micro Precision and Recall, These measures will aggregate the contributions of all classes to compute the average precision and recall. This approach might mask the performance of the model on minority classes if the dataset is imbalanced.\n",
        "\n",
        "If the classes in the dataset are imbalanced, then the micro average might give an overly optimistic view of the model's performance, while the macro average will give a more balanced view by treating each class equally. Conversely, if the classes are balanced, then both micro and macro averages should give similar results.\n",
        "\n",
        "In summary The experiments and modification provide valuable insights into the behavior of the models with respect to various parameters. The results suggest that there might be an optimal range for variance smoothing in Naïve Bayes that balances the trade-off between overfitting and predictive power. For Logistic Regression, the choice of solver and tolerance does not seem to significantly affect the performance, at least for this particular dataset. In future work, we could explore the impact of other parameters such as regularization strength, and interaction terms for Logistic Regression, and the impact of feature engineering on the performance of both models."
      ],
      "metadata": {
        "id": "kyZwaPPJYsvy"
      }
    },
    {
      "cell_type": "markdown",
      "source": [
        "--------------------------------------------------------------------------\n"
      ],
      "metadata": {
        "id": "41s8gvCNABDy"
      }
    },
    {
      "cell_type": "markdown",
      "source": [
        "**10 References**\n",
        "\n",
        "[1] A. A. Awan and A. Navlani, “Naive Bayes classifier tutorial: With Python Scikit-Learn,” DataCamp, https://www.datacamp.com/tutorial/naive-bayes-scikit-learn (accessed Oct. 24, 2023).\n",
        "\n",
        "[2] A. Navlani, “Python logistic regression tutorial with Sklearn &amp; Scikit,” DataCamp, https://www.datacamp.com/tutorial/understanding-logistic-regression-python (accessed Oct. 24, 2023).\n",
        "\n",
        "[3] “Scikit-Learn Tutorial | Machine Learning with scikit-learn | sklearn | python tutorial | Simplilearn,” YouTube, https://www.youtube.com/watch?v=0Lt9w-BxKFQ (accessed Oct. 24, 2023).\n",
        "\n",
        "[4] “Maternal health risk,” UCI Machine Learning Repository, https://archive.ics.uci.edu/dataset/863/maternal+health+risk (accessed Oct. 24, 2023).\n",
        "\n",
        "[5] “Scikit-Learn Tutorial | Machine Learning with scikit-learn | sklearn | python tutorial | Simplilearn,” YouTube, https://www.youtube.com/watch?v=0Lt9w-BxKFQ (accessed Oct. 23, 2023).\n",
        "\n",
        "[6] “Scikit learn tutorial,” Online Tutorials, Courses, and eBooks Library, https://www.tutorialspoint.com/scikit_learn/index.htm (accessed Oct. 23, 2023).\n"
      ],
      "metadata": {
        "id": "PtbOgI1q_9a0"
      }
    }
  ],
  "metadata": {
    "kernelspec": {
      "display_name": "Python 3",
      "language": "python",
      "name": "python3"
    },
    "language_info": {
      "codemirror_mode": {
        "name": "ipython",
        "version": 3
      },
      "file_extension": ".py",
      "mimetype": "text/x-python",
      "name": "python",
      "nbconvert_exporter": "python",
      "pygments_lexer": "ipython3",
      "version": "3.9.10"
    },
    "orig_nbformat": 4,
    "colab": {
      "provenance": [],
      "include_colab_link": true
    }
  },
  "nbformat": 4,
  "nbformat_minor": 0
}